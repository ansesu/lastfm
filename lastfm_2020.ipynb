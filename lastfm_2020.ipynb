{
 "cells": [
  {
   "cell_type": "code",
   "execution_count": 1,
   "metadata": {
    "ExecuteTime": {
     "end_time": "2021-01-02T15:07:03.641504Z",
     "start_time": "2021-01-02T15:07:03.521942Z"
    }
   },
   "outputs": [
    {
     "data": {
      "text/html": [
       "<style>.container {width:99.5% !important;} </style>"
      ],
      "text/plain": [
       "<IPython.core.display.HTML object>"
      ]
     },
     "metadata": {},
     "output_type": "display_data"
    }
   ],
   "source": [
    "import warnings\n",
    "import pandas as pd\n",
    "import numpy as np\n",
    "import datetime\n",
    "from datetime import datetime, timedelta\n",
    "from dateutil import tz\n",
    "from IPython.core.display import display, HTML\n",
    "display(HTML(\"<style>.container {width:99.5% !important;} </style>\"))\n",
    "%config Completer.use_jedi = False"
   ]
  },
  {
   "cell_type": "code",
   "execution_count": 2,
   "metadata": {
    "ExecuteTime": {
     "end_time": "2021-01-02T15:07:03.944878Z",
     "start_time": "2021-01-02T15:07:03.904839Z"
    },
    "code_folding": [
     1
    ]
   },
   "outputs": [],
   "source": [
    "import matplotlib as mpl\n",
    "rcparams = {'font.family':         'sans-serif',\n",
    "            'font.sans-serif':     ['Helvetica'],\n",
    "            'axes.labelsize':      28,\n",
    "            'axes.titlesize':      28,\n",
    "            'legend.fontsize':     20,\n",
    "            'ytick.right':         'off',\n",
    "            'xtick.top':           'off',\n",
    "            'ytick.left':          'on',\n",
    "            'xtick.bottom':        'on',\n",
    "            'xtick.labelsize':     '28',\n",
    "            'ytick.labelsize':     '28',\n",
    "            'axes.linewidth':       2.5,\n",
    "            'xtick.major.width':    1.8,\n",
    "            'xtick.minor.width':    1.8,\n",
    "            'xtick.major.size':     14,\n",
    "            'xtick.minor.size':     7,\n",
    "            'xtick.major.pad':      10,\n",
    "            'xtick.minor.pad':      10,\n",
    "            'ytick.major.width':    1.8,\n",
    "            'ytick.minor.width':    1.8,\n",
    "            'ytick.major.size':     14,\n",
    "            'ytick.minor.size':     7,\n",
    "            'ytick.major.pad':      10,\n",
    "            'ytick.minor.pad':      10,\n",
    "            'axes.labelpad':        15,\n",
    "            'axes.titlepad':        15,\n",
    "            'axes.spines.right':    False,\n",
    "            'axes.spines.top':      False,\n",
    "#             'axes.spines.left':      False\n",
    "           }\n",
    "mpl.rcParams.update(rcparams)"
   ]
  },
  {
   "cell_type": "code",
   "execution_count": 3,
   "metadata": {
    "ExecuteTime": {
     "end_time": "2021-01-02T15:07:04.300301Z",
     "start_time": "2021-01-02T15:07:04.296512Z"
    }
   },
   "outputs": [],
   "source": [
    "from_zone = tz.tzutc()\n",
    "to_zone = tz.tzlocal()"
   ]
  },
  {
   "cell_type": "markdown",
   "metadata": {},
   "source": [
    "# Data"
   ]
  },
  {
   "cell_type": "code",
   "execution_count": 4,
   "metadata": {
    "ExecuteTime": {
     "end_time": "2021-01-02T15:07:07.985676Z",
     "start_time": "2021-01-02T15:07:06.802958Z"
    },
    "code_folding": []
   },
   "outputs": [],
   "source": [
    "df = pd.read_csv('data/scrobbles_ansesu_2020.csv')\n",
    "from_zone = tz.tzutc()\n",
    "to_zone = tz.tzlocal()\n",
    "df['date'] = [\n",
    "    datetime.strptime(\n",
    "        date, '%d %b %Y, %H:%M'\n",
    "    ).replace(tzinfo=from_zone).astimezone(to_zone) for date in df.utc_time\n",
    "]\n",
    "df['date']= pd.to_datetime(df['date'].values)\n",
    "df = df.set_index('date')\n",
    "\n",
    "for idx in df[df.artist == '水曜日のカンパネラ'].index:\n",
    "    df.at[idx, 'artist'] = 'Wednesday Campanella'\n",
    "for idx in df[df.artist == '水曜日のカンパネラ×shu uemura'].index:\n",
    "    df.at[idx, 'artist'] = 'Wednesday Campanella'    \n",
    "for idx in df[df.artist == 'Frederic'].index:\n",
    "    df.at[idx, 'artist'] = 'フレデリック'    "
   ]
  },
  {
   "cell_type": "code",
   "execution_count": 5,
   "metadata": {
    "ExecuteTime": {
     "end_time": "2021-01-02T15:07:41.917642Z",
     "start_time": "2021-01-02T15:07:08.002716Z"
    }
   },
   "outputs": [],
   "source": [
    "year = 2020\n",
    "# Create dataframe of specific year\n",
    "df['year'] = [date.year for date in df.index]\n",
    "df_year = df[df.year==year].copy(deep=True)\n",
    "\n",
    "# Create a column 'track - artist'\n",
    "which_ = 'track'\n",
    "l=[]\n",
    "for i in df_year[f'{which_}'].values:\n",
    "    artist = df[df[f'{which_}'] == i].artist.values[0]\n",
    "    l.append(f'{i} - {artist}')\n",
    "df_year[f'{which_}_w_artist'] =l\n",
    "\n",
    "# Create a column 'album - artist'\n",
    "which_ = 'album'\n",
    "l=[]\n",
    "for i in df_year[f'{which_}'].values:\n",
    "    try:\n",
    "        artist = df[df[f'{which_}'] == i].artist.values[0]\n",
    "        l.append(f'{i} - {artist}')\n",
    "    except:\n",
    "        artist = ''\n",
    "        l.append(f'{i} - {artist}')        \n",
    "df_year[f'{which_}_w_artist'] =l"
   ]
  },
  {
   "cell_type": "code",
   "execution_count": 6,
   "metadata": {
    "ExecuteTime": {
     "end_time": "2021-01-02T15:07:41.950626Z",
     "start_time": "2021-01-02T15:07:41.946960Z"
    }
   },
   "outputs": [
    {
     "data": {
      "text/plain": [
       "'8,682 plays, 2,297 músicas únicas, 580 artistas e 1,079 álbuns'"
      ]
     },
     "execution_count": 6,
     "metadata": {},
     "output_type": "execute_result"
    }
   ],
   "source": [
    "f'{len(df_year):,} plays, {df_year.track.nunique():,} músicas únicas,\\\n",
    " {df_year.artist.nunique():,} artistas e\\\n",
    " {df_year.album.nunique():,} álbuns'"
   ]
  },
  {
   "cell_type": "markdown",
   "metadata": {},
   "source": [
    "# My yearly top artists"
   ]
  },
  {
   "cell_type": "code",
   "execution_count": 8,
   "metadata": {
    "ExecuteTime": {
     "end_time": "2021-01-02T01:14:35.210278Z",
     "start_time": "2021-01-02T01:14:35.205146Z"
    }
   },
   "outputs": [],
   "source": [
    "which_='artist'\n",
    "artist, counts = np.unique(df_year[f'artist'], return_counts=True)\n",
    "df_track = pd.DataFrame({\n",
    "    'artist': artist,\n",
    "    'count': counts\n",
    "})"
   ]
  },
  {
   "cell_type": "code",
   "execution_count": 9,
   "metadata": {
    "ExecuteTime": {
     "end_time": "2021-01-02T01:14:35.215739Z",
     "start_time": "2021-01-02T01:14:35.211092Z"
    }
   },
   "outputs": [
    {
     "name": "stdout",
     "output_type": "stream",
     "text": [
      "1) Foster the People (978 plays)\n",
      "2) Cory Wong (462 plays)\n",
      "3) Vulfpeck (411 plays)\n",
      "4) Emicida (308 plays)\n",
      "5) Phoenix (224 plays)\n",
      "6) Yuki Hayashi (218 plays)\n",
      "7) The Kooks (212 plays)\n",
      "8) Taichi Mukai (204 plays)\n",
      "9) Red Hot Chili Peppers (140 plays)\n",
      "10) Tame Impala (127 plays)\n"
     ]
    }
   ],
   "source": [
    "for j, i in enumerate(df_track.sort_values('count', ascending=False)[['artist','count']].values[:10]):\n",
    "    print(f'{j+1}) {i[0]} ({i[1]} plays)')"
   ]
  },
  {
   "cell_type": "markdown",
   "metadata": {},
   "source": [
    "# My yearly top tracks"
   ]
  },
  {
   "cell_type": "code",
   "execution_count": 10,
   "metadata": {
    "ExecuteTime": {
     "end_time": "2021-01-02T01:14:35.223099Z",
     "start_time": "2021-01-02T01:14:35.216550Z"
    }
   },
   "outputs": [],
   "source": [
    "which_='track'\n",
    "track, counts = np.unique(df_year[f'{which_}_w_artist'], return_counts=True)\n",
    "df_track = pd.DataFrame({\n",
    "    'track': track,\n",
    "    'count': counts\n",
    "})"
   ]
  },
  {
   "cell_type": "code",
   "execution_count": 11,
   "metadata": {
    "ExecuteTime": {
     "end_time": "2021-01-02T01:14:35.229131Z",
     "start_time": "2021-01-02T01:14:35.223885Z"
    }
   },
   "outputs": [
    {
     "name": "stdout",
     "output_type": "stream",
     "text": [
      "1) リセット - Taichi Mukai (121 plays)\n",
      "2) Sou Babu - Babu Santana (81 plays)\n",
      "3) 道 - Taichi Mukai (71 plays)\n",
      "4) In a Sweat ! - Yuki Hayashi (66 plays)\n",
      "5) Catch up, latency - UNISON SQUARE GARDEN (58 plays)\n",
      "6) Golden - Cory Wong (54 plays)\n",
      "7) Kenni and the Jets - The Fearless Flyers (52 plays)\n",
      "8) Starting Line - Cory Wong (50 plays)\n",
      "9) AmarElo (Sample: Sujeito de Sorte - Belchior) - Emicida (47 plays)\n",
      "10) Companion Pass - Cory Wong (45 plays)\n"
     ]
    }
   ],
   "source": [
    "for j, i in enumerate(df_track.sort_values('count', ascending=False)[['track','count']].values[:10]):\n",
    "    print(f'{j+1}) {i[0]} ({i[1]} plays)')"
   ]
  },
  {
   "cell_type": "markdown",
   "metadata": {},
   "source": [
    "# My yearly top albums"
   ]
  },
  {
   "cell_type": "code",
   "execution_count": 12,
   "metadata": {
    "ExecuteTime": {
     "end_time": "2021-01-02T01:14:35.236661Z",
     "start_time": "2021-01-02T01:14:35.229934Z"
    }
   },
   "outputs": [],
   "source": [
    "which_='album'\n",
    "album, counts = np.unique(df_year[f'{which_}_w_artist'], return_counts=True)\n",
    "df_album = pd.DataFrame({\n",
    "    'album': album,\n",
    "    'count': counts\n",
    "})"
   ]
  },
  {
   "cell_type": "code",
   "execution_count": 13,
   "metadata": {
    "ExecuteTime": {
     "end_time": "2021-01-02T01:14:35.243082Z",
     "start_time": "2021-01-02T01:14:35.237449Z"
    }
   },
   "outputs": [
    {
     "name": "stdout",
     "output_type": "stream",
     "text": [
      "1) Torches - Foster the People (294 plays)\n",
      "2) AmarElo - Emicida (246 plays)\n",
      "3) TVアニメ「風が強く吹いている」オリジナルサウンドトラック - Yuki Hayashi (200 plays)\n",
      "4) Motivational Music For The Syncopated Soul - Cory Wong (168 plays)\n",
      "5) Supermodel - Foster the People (166 plays)\n",
      "6) Sacred Hearts Club - Foster the People (162 plays)\n",
      "7) Pure - Taichi Mukai (100 plays)\n",
      "8) Frozen 2 (Original Motion Picture Soundtrack/Deluxe Edition) - Kristen Bell (97 plays)\n",
      "9) Thrill of the Arts - Vulfpeck (84 plays)\n",
      "10) The Battle of Los Angeles - Rage Against the Machine (82 plays)\n"
     ]
    }
   ],
   "source": [
    "for j, i in enumerate(df_album.sort_values('count', ascending=False)[['album','count']].values[:10]):\n",
    "    print(f'{j+1}) {i[0]} ({i[1]} plays)')"
   ]
  },
  {
   "cell_type": "markdown",
   "metadata": {},
   "source": [
    "# My yearly top new artists"
   ]
  },
  {
   "cell_type": "code",
   "execution_count": 14,
   "metadata": {
    "ExecuteTime": {
     "end_time": "2021-01-02T01:14:35.253256Z",
     "start_time": "2021-01-02T01:14:35.243901Z"
    }
   },
   "outputs": [],
   "source": [
    "new_artists, count = np.unique(df_year[~df_year.artist.isin(df[df.year<year].artist.unique())].artist, return_counts=True)"
   ]
  },
  {
   "cell_type": "code",
   "execution_count": 15,
   "metadata": {
    "ExecuteTime": {
     "end_time": "2021-01-02T01:14:35.258582Z",
     "start_time": "2021-01-02T01:14:35.254147Z"
    },
    "scrolled": false
   },
   "outputs": [
    {
     "name": "stdout",
     "output_type": "stream",
     "text": [
      "1) Emicida (308 plays)\n",
      "2) Yuki Hayashi (218 plays)\n",
      "3) Taichi Mukai (204 plays)\n",
      "4) Babu Santana (83 plays)\n",
      "5) OKAMOTO'S (80 plays)\n",
      "6) Self (66 plays)\n",
      "7) UNISON SQUARE GARDEN (58 plays)\n",
      "8) Public Enemy (52 plays)\n",
      "9) Fitz and the Tantrums (47 plays)\n",
      "10) Gen Hoshino (42 plays)\n",
      "11) Pomplamoose (37 plays)\n",
      "12) Romes (36 plays)\n",
      "13) Castlebeat (34 plays)\n",
      "14) Guru Woof Música Relaxante Para Crianças (33 plays)\n",
      "15) Rina Sawayama (31 plays)\n",
      "16) Kyle Sparkman (29 plays)\n",
      "17) Louis The Child (26 plays)\n",
      "18) Michael Kiwanuka (25 plays)\n",
      "19) Q-MHz (22 plays)\n",
      "20) Shuyodan (20 plays)\n",
      "21) Now United (20 plays)\n",
      "22) Quad City DJ's (19 plays)\n",
      "23) Apparat (18 plays)\n",
      "24) ネクライトーキー (17 plays)\n",
      "25) toe (17 plays)\n",
      "26) Agnes Obel (16 plays)\n",
      "27) Galaxie 500 (14 plays)\n",
      "28) D.D Dumbo (14 plays)\n",
      "29) Sungeun Lee (13 plays)\n",
      "30) Cory Henry (13 plays)\n",
      "31) つじあやの (12 plays)\n",
      "32) Will Smith (12 plays)\n",
      "33) Simian (11 plays)\n"
     ]
    }
   ],
   "source": [
    "for i, j in enumerate(sorted(zip(count[count>10],new_artists[count>10]), reverse=True)):\n",
    "    print(f'{i+1}) {j[1]} ({j[0]} plays)')"
   ]
  },
  {
   "cell_type": "markdown",
   "metadata": {
    "heading_collapsed": true
   },
   "source": [
    "# Yearly listening time distribution"
   ]
  },
  {
   "cell_type": "code",
   "execution_count": 16,
   "metadata": {
    "ExecuteTime": {
     "end_time": "2021-01-02T01:14:35.268225Z",
     "start_time": "2021-01-02T01:14:35.259437Z"
    },
    "code_folding": [
     0
    ],
    "hidden": true
   },
   "outputs": [],
   "source": [
    "df_year['hour'] = [date.hour for date in df_year.index]\n",
    "hour, count = np.unique(df_year['hour'], return_counts=True)\n",
    "df_hour = pd.DataFrame(\n",
    "    {'hour': hour,\n",
    "    'count': count}\n",
    ")"
   ]
  },
  {
   "cell_type": "code",
   "execution_count": 17,
   "metadata": {
    "ExecuteTime": {
     "end_time": "2021-01-02T01:14:35.273626Z",
     "start_time": "2021-01-02T01:14:35.269030Z"
    },
    "hidden": true
   },
   "outputs": [],
   "source": [
    "df_hour.to_csv(f\"data/{year}/hour_data.csv\", index=False)"
   ]
  },
  {
   "cell_type": "markdown",
   "metadata": {},
   "source": [
    "# Yearly month count distribution"
   ]
  },
  {
   "cell_type": "code",
   "execution_count": 12,
   "metadata": {
    "ExecuteTime": {
     "end_time": "2021-01-02T15:08:15.928508Z",
     "start_time": "2021-01-02T15:08:15.915819Z"
    }
   },
   "outputs": [],
   "source": [
    "df_year['month'] = [date.month for date in df_year.index]\n",
    "month, count = np.unique(df_year['month'], return_counts=True)\n",
    "df_month = pd.DataFrame(\n",
    "    {'category': month,\n",
    "     f'count_{year}': count}\n",
    ")\n",
    "df_month['category_str_pt'] = [\n",
    "    'Jan', 'Fev', 'Mar', 'Abr', 'Mai', 'Jun', \n",
    "    'Jul', 'Ago', 'Set', 'Out', 'Nov', 'Dez'\n",
    "]\n",
    "df_month['category_str_en'] = [\n",
    "    'Jan', 'Feb', 'Mar', 'Apr', 'Mai', 'Jun', \n",
    "    'Jul', 'Aug', 'Sep', 'Oct', 'Nov', 'Dec'\n",
    "]\n",
    "df_month['category_str_complete_pt'] = [\n",
    "    'Janeiro', 'Fevereiro', 'Março', 'Abril', 'Maio', 'Junho', \n",
    "    'Julho', 'Agosto', 'Setembro', 'Outubro', 'Novembro', 'Dezembro'\n",
    "]\n",
    "df_month['category_str_complete_en'] = [\n",
    "    'January', 'February', 'March', 'April', 'May', 'June', \n",
    "    'July', 'August', 'September', 'October', 'November', 'December'\n",
    "]"
   ]
  },
  {
   "cell_type": "code",
   "execution_count": 13,
   "metadata": {
    "ExecuteTime": {
     "end_time": "2021-01-02T15:08:16.170757Z",
     "start_time": "2021-01-02T15:08:16.164894Z"
    }
   },
   "outputs": [],
   "source": [
    "df_month.to_csv(f\"data/{year}/month_data_{year}.csv\", index=False)"
   ]
  },
  {
   "cell_type": "markdown",
   "metadata": {},
   "source": [
    "# Yearly day of the week count distribution"
   ]
  },
  {
   "cell_type": "code",
   "execution_count": 14,
   "metadata": {
    "ExecuteTime": {
     "end_time": "2021-01-02T15:08:17.055673Z",
     "start_time": "2021-01-02T15:08:17.024782Z"
    }
   },
   "outputs": [],
   "source": [
    "df_year['weekday'] = [date.weekday() for date in df_year.index]\n",
    "weekday, count = np.unique(df_year['weekday'], return_counts=True)\n",
    "df_weekday = pd.DataFrame(\n",
    "    {'category': weekday,\n",
    "     f'count_{year}': count}\n",
    ")\n",
    "df_weekday['category_str_en'] = [\n",
    "    'Mon', 'Tue', 'Wed', 'Thu', 'Fri', 'Sat', 'Sun'\n",
    "]\n",
    "df_weekday['category_str_pt'] = [\n",
    "    'Seg', 'Ter', 'Qua', 'Qui', 'Sex', 'Sáb', 'Dom'\n",
    "]\n",
    "df_weekday['category_str_complete_en'] = [\n",
    "    'Monday', 'Tuesday', 'Wednesday', 'Thursday', 'Friday', 'Saturday', 'Sunday'\n",
    "]\n",
    "df_weekday['category_str_complete_pt'] = [\n",
    "    'Segunda', 'Terça', 'Quarta', 'Quinta', 'Sexta', 'Sábado', 'Domingo'\n",
    "]"
   ]
  },
  {
   "cell_type": "code",
   "execution_count": 15,
   "metadata": {
    "ExecuteTime": {
     "end_time": "2021-01-02T15:08:17.413240Z",
     "start_time": "2021-01-02T15:08:17.407485Z"
    }
   },
   "outputs": [],
   "source": [
    "df_weekday.to_csv(f\"data/{year}/weekday_data_{year}.csv\", index=False)"
   ]
  },
  {
   "cell_type": "markdown",
   "metadata": {},
   "source": [
    "# Yearly listening streaks"
   ]
  },
  {
   "cell_type": "code",
   "execution_count": 52,
   "metadata": {
    "ExecuteTime": {
     "end_time": "2021-01-02T02:48:57.212098Z",
     "start_time": "2021-01-02T02:48:57.196182Z"
    }
   },
   "outputs": [],
   "source": [
    "counter = 1\n",
    "streaks = []\n",
    "artists = []\n",
    "dates = []\n",
    "for artist1, artist2, date in zip(df_year.artist.values[:-1], \n",
    "                                  df_year.artist.values[1:],\n",
    "                                  df_year.index[:-1]):\n",
    "    if artist1 != artist2:\n",
    "        streaks.append(counter)\n",
    "        artists.append(artist1)\n",
    "        dates.append(date)\n",
    "        counter = 1 \n",
    "    else:\n",
    "        counter += 1\n",
    "        \n",
    "df_streak = pd.DataFrame({\n",
    "    'streak': streaks,\n",
    "    'name': artists,\n",
    "    'date': dates\n",
    "})"
   ]
  },
  {
   "cell_type": "code",
   "execution_count": 53,
   "metadata": {
    "ExecuteTime": {
     "end_time": "2021-01-02T02:48:57.838522Z",
     "start_time": "2021-01-02T02:48:57.831468Z"
    }
   },
   "outputs": [],
   "source": [
    "df_streak[df_streak.streak>1].to_csv(f\"data/{year}/streak_artist_data.csv\")"
   ]
  },
  {
   "cell_type": "code",
   "execution_count": 56,
   "metadata": {
    "ExecuteTime": {
     "end_time": "2021-01-02T02:50:11.942496Z",
     "start_time": "2021-01-02T02:50:11.903446Z"
    },
    "code_folding": []
   },
   "outputs": [],
   "source": [
    "counter = 1\n",
    "streaks = []\n",
    "tracks = []\n",
    "dates = []\n",
    "for track1, track2, date in zip(df_year.track_w_artist.values[:-1], \n",
    "                                df_year.track_w_artist.values[1:],\n",
    "                                df_year.index[:-1]):\n",
    "    if track1 != track2:\n",
    "        streaks.append(counter)\n",
    "        tracks.append(track1)\n",
    "        dates.append(date)\n",
    "        counter = 1 \n",
    "    else:\n",
    "        counter += 1\n",
    "        \n",
    "df_streak = pd.DataFrame({\n",
    "    'streak': streaks,\n",
    "    'name': tracks,\n",
    "    'date': dates\n",
    "})"
   ]
  },
  {
   "cell_type": "code",
   "execution_count": 57,
   "metadata": {
    "ExecuteTime": {
     "end_time": "2021-01-02T02:50:12.294326Z",
     "start_time": "2021-01-02T02:50:12.282382Z"
    }
   },
   "outputs": [],
   "source": [
    "df_streak[df_streak.streak>1].to_csv(f\"data/{year}/streak_track_data.csv\")"
   ]
  },
  {
   "cell_type": "markdown",
   "metadata": {
    "ExecuteTime": {
     "end_time": "2020-07-18T19:12:43.585893Z",
     "start_time": "2020-07-18T19:12:43.582799Z"
    }
   },
   "source": [
    "# Stream chart"
   ]
  },
  {
   "cell_type": "code",
   "execution_count": 46,
   "metadata": {
    "ExecuteTime": {
     "end_time": "2021-01-02T01:55:00.216810Z",
     "start_time": "2021-01-02T01:55:00.207358Z"
    }
   },
   "outputs": [],
   "source": [
    "which_='artist'\n",
    "artist, counts = np.unique(df_year[f'artist'], return_counts=True)\n",
    "df_track = pd.DataFrame({\n",
    "    'artist': artist,\n",
    "    'count': counts\n",
    "})"
   ]
  },
  {
   "cell_type": "code",
   "execution_count": 47,
   "metadata": {
    "ExecuteTime": {
     "end_time": "2021-01-02T01:55:00.957172Z",
     "start_time": "2021-01-02T01:55:00.539577Z"
    }
   },
   "outputs": [],
   "source": [
    "start = datetime(year,1,1)\n",
    "n_weeks = round(365/7)+1\n",
    "dates = [start] + [start + timedelta(days=7*delta) for delta in range(1, n_weeks)]\n",
    "dates = dates[:-1] + [datetime(year+1,1,1)]\n",
    "dict_ = {}\n",
    "selected_artists = df_track.sort_values('count', ascending=False).artist.values[:10]\n",
    "df = pd.DataFrame()\n",
    "for date1, date2 in zip(dates[:-1], dates[1:]):\n",
    "    mask = (df_year.index < date2) & (df_year.index >= date1)\n",
    "    for artist in selected_artists:\n",
    "        counts_artist = len(df_year[mask & (df_year.artist == artist)])\n",
    "        dict_.setdefault(artist, []).append(counts_artist)\n",
    "    dict_.setdefault('date', []).append(date1)"
   ]
  },
  {
   "cell_type": "code",
   "execution_count": 48,
   "metadata": {
    "ExecuteTime": {
     "end_time": "2021-01-02T01:55:01.284195Z",
     "start_time": "2021-01-02T01:55:01.278149Z"
    }
   },
   "outputs": [],
   "source": [
    "df = pd.DataFrame(dict_)\n",
    "df[np.concatenate([['date'], df.columns[:-1]])].to_csv(f\"data/{year}/stream_chart_data.csv\", index=False)"
   ]
  },
  {
   "cell_type": "markdown",
   "metadata": {},
   "source": [
    "# Barchart race"
   ]
  },
  {
   "cell_type": "code",
   "execution_count": 39,
   "metadata": {
    "ExecuteTime": {
     "end_time": "2021-01-02T01:48:47.865844Z",
     "start_time": "2021-01-02T01:48:47.858650Z"
    }
   },
   "outputs": [],
   "source": [
    "which_ = 'artist'\n",
    "year = 2020\n",
    "start_date = datetime(year, 1, 1)\n",
    "end_date = datetime(year+1, 1, 2)\n",
    "date_range = pd.date_range(start_date, end_date, freq='d', closed='left').tolist()"
   ]
  },
  {
   "cell_type": "code",
   "execution_count": 40,
   "metadata": {
    "ExecuteTime": {
     "end_time": "2021-01-02T01:48:48.100789Z",
     "start_time": "2021-01-02T01:48:48.094404Z"
    }
   },
   "outputs": [],
   "source": [
    "which_='artist'\n",
    "artist, counts = np.unique(df_year[f'artist'], return_counts=True)\n",
    "df_track = pd.DataFrame({\n",
    "    'artist': artist,\n",
    "    'count': counts\n",
    "})"
   ]
  },
  {
   "cell_type": "code",
   "execution_count": 41,
   "metadata": {
    "ExecuteTime": {
     "end_time": "2021-01-02T01:49:03.232151Z",
     "start_time": "2021-01-02T01:48:48.392305Z"
    }
   },
   "outputs": [],
   "source": [
    "all_artists = df_track[df_track['count']>30].artist.unique()\n",
    "l=[]\n",
    "for date1, date2 in zip(date_range[:-1], date_range[1:]):\n",
    "    for artist in all_artists:\n",
    "        mask = (df_year.artist == artist) & (df_year.index < date2)\n",
    "        l += [[date1, artist, len(df_year[mask])]]  "
   ]
  },
  {
   "cell_type": "code",
   "execution_count": 42,
   "metadata": {
    "ExecuteTime": {
     "end_time": "2021-01-02T01:49:03.339415Z",
     "start_time": "2021-01-02T01:49:03.328668Z"
    }
   },
   "outputs": [],
   "source": [
    "df_barchart = pd.DataFrame(l, columns=['date', 'name', 'value'])#.to_csv(\"barchart_data.csv\", index=False)"
   ]
  },
  {
   "cell_type": "code",
   "execution_count": 43,
   "metadata": {
    "ExecuteTime": {
     "end_time": "2021-01-02T01:49:03.810043Z",
     "start_time": "2021-01-02T01:49:03.434792Z"
    }
   },
   "outputs": [],
   "source": [
    "df_barchart['rank'] = 0\n",
    "for date in df_barchart.sort_values(['date', 'value']).date.unique():\n",
    "    idx = df_barchart[df_barchart.date == date].sort_values('value', ascending=False).index\n",
    "    for i, idx_ in enumerate(idx):\n",
    "        df_barchart.at[idx_, 'rank'] = i"
   ]
  },
  {
   "cell_type": "code",
   "execution_count": 44,
   "metadata": {
    "ExecuteTime": {
     "end_time": "2021-01-02T01:50:03.872335Z",
     "start_time": "2021-01-02T01:49:03.900228Z"
    }
   },
   "outputs": [],
   "source": [
    "df_barchart['lastValue'] = 0\n",
    "for date1, date2 in zip(date_range[:-1], date_range[1:]):\n",
    "    for name in df_barchart.name.unique():\n",
    "        idx = df_barchart[(df_barchart.name == name) & (df_barchart.date == date2)].index\n",
    "        last_value = df_barchart[(df_barchart.name == name) & (df_barchart.date == date1)].value.values[0]\n",
    "        df_barchart.at[idx, 'lastValue'] = last_value        "
   ]
  },
  {
   "cell_type": "code",
   "execution_count": 45,
   "metadata": {
    "ExecuteTime": {
     "end_time": "2021-01-02T01:50:04.078262Z",
     "start_time": "2021-01-02T01:50:03.967158Z"
    }
   },
   "outputs": [],
   "source": [
    "df_barchart.to_csv(f\"data/{year}/barchart_data.csv\", index=False)"
   ]
  },
  {
   "cell_type": "code",
   "execution_count": null,
   "metadata": {},
   "outputs": [],
   "source": []
  }
 ],
 "metadata": {
  "kernelspec": {
   "display_name": "Python 3",
   "language": "python",
   "name": "python3"
  },
  "language_info": {
   "codemirror_mode": {
    "name": "ipython",
    "version": 3
   },
   "file_extension": ".py",
   "mimetype": "text/x-python",
   "name": "python",
   "nbconvert_exporter": "python",
   "pygments_lexer": "ipython3",
   "version": "3.7.6"
  },
  "toc": {
   "base_numbering": 1,
   "nav_menu": {},
   "number_sections": true,
   "sideBar": true,
   "skip_h1_title": false,
   "title_cell": "Table of Contents",
   "title_sidebar": "Contents",
   "toc_cell": false,
   "toc_position": {},
   "toc_section_display": true,
   "toc_window_display": false
  },
  "varInspector": {
   "cols": {
    "lenName": 16,
    "lenType": 16,
    "lenVar": 40
   },
   "kernels_config": {
    "python": {
     "delete_cmd_postfix": "",
     "delete_cmd_prefix": "del ",
     "library": "var_list.py",
     "varRefreshCmd": "print(var_dic_list())"
    },
    "r": {
     "delete_cmd_postfix": ") ",
     "delete_cmd_prefix": "rm(",
     "library": "var_list.r",
     "varRefreshCmd": "cat(var_dic_list()) "
    }
   },
   "types_to_exclude": [
    "module",
    "function",
    "builtin_function_or_method",
    "instance",
    "_Feature"
   ],
   "window_display": false
  }
 },
 "nbformat": 4,
 "nbformat_minor": 2
}

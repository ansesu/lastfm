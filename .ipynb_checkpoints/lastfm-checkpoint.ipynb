{
 "cells": [
  {
   "cell_type": "code",
   "execution_count": 8,
   "metadata": {
    "ExecuteTime": {
     "end_time": "2020-07-09T17:36:49.157281Z",
     "start_time": "2020-07-09T17:36:49.139588Z"
    }
   },
   "outputs": [
    {
     "data": {
      "text/html": [
       "<style>.container {width:99.5% !important;} </style>"
      ],
      "text/plain": [
       "<IPython.core.display.HTML object>"
      ]
     },
     "metadata": {},
     "output_type": "display_data"
    }
   ],
   "source": [
    "import warnings\n",
    "import pandas as pd\n",
    "import numpy as np\n",
    "import datetime\n",
    "from datetime import datetime, timedelta\n",
    "from dateutil import tz\n",
    "from IPython.core.display import display, HTML\n",
    "display(HTML(\"<style>.container {width:99.5% !important;} </style>\"))\n",
    "%config Completer.use_jedi = False"
   ]
  },
  {
   "cell_type": "code",
   "execution_count": 10,
   "metadata": {
    "ExecuteTime": {
     "end_time": "2020-07-09T17:36:53.806968Z",
     "start_time": "2020-07-09T17:36:53.801650Z"
    }
   },
   "outputs": [],
   "source": [
    "from bokeh.plotting import figure, output_file, show\n",
    "from bokeh.models import ColumnDataSource, Label, Range1d, BasicTickFormatter, LabelSet, DatetimeTickFormatter, DataRange1d, Span, ColorBar, Title\n",
    "from bokeh.models.tools import HoverTool\n",
    "from bokeh.layouts import layout, column, row\n",
    "from bokeh.io import save\n",
    "plot_width = 700\n",
    "plot_height = 500"
   ]
  },
  {
   "cell_type": "code",
   "execution_count": 11,
   "metadata": {
    "ExecuteTime": {
     "end_time": "2020-07-09T17:36:54.188213Z",
     "start_time": "2020-07-09T17:36:54.181188Z"
    },
    "code_folding": [
     1
    ]
   },
   "outputs": [],
   "source": [
    "import matplotlib as mpl\n",
    "rcparams = {'font.family':         'sans-serif',\n",
    "            'font.sans-serif':     ['Helvetica'],\n",
    "            'axes.labelsize':      28,\n",
    "            'axes.titlesize':      28,\n",
    "            'legend.fontsize':     20,\n",
    "            'ytick.right':         'off',\n",
    "            'xtick.top':           'off',\n",
    "            'ytick.left':          'on',\n",
    "            'xtick.bottom':        'on',\n",
    "            'xtick.labelsize':     '28',\n",
    "            'ytick.labelsize':     '28',\n",
    "            'axes.linewidth':       2.5,\n",
    "            'xtick.major.width':    1.8,\n",
    "            'xtick.minor.width':    1.8,\n",
    "            'xtick.major.size':     14,\n",
    "            'xtick.minor.size':     7,\n",
    "            'xtick.major.pad':      10,\n",
    "            'xtick.minor.pad':      10,\n",
    "            'ytick.major.width':    1.8,\n",
    "            'ytick.minor.width':    1.8,\n",
    "            'ytick.major.size':     14,\n",
    "            'ytick.minor.size':     7,\n",
    "            'ytick.major.pad':      10,\n",
    "            'ytick.minor.pad':      10,\n",
    "            'axes.labelpad':        15,\n",
    "            'axes.titlepad':        15,\n",
    "            'axes.spines.right':    False,\n",
    "            'axes.spines.top':      False,\n",
    "#             'axes.spines.left':      False\n",
    "           }\n",
    "mpl.rcParams.update(rcparams)"
   ]
  },
  {
   "cell_type": "code",
   "execution_count": 12,
   "metadata": {
    "ExecuteTime": {
     "end_time": "2020-07-09T17:36:54.598079Z",
     "start_time": "2020-07-09T17:36:54.593346Z"
    }
   },
   "outputs": [],
   "source": [
    "from_zone = tz.tzutc()\n",
    "to_zone = tz.tzlocal()"
   ]
  },
  {
   "cell_type": "markdown",
   "metadata": {
    "heading_collapsed": true
   },
   "source": [
    "# Data"
   ]
  },
  {
   "cell_type": "code",
   "execution_count": 14,
   "metadata": {
    "ExecuteTime": {
     "end_time": "2020-07-09T17:37:03.961944Z",
     "start_time": "2020-07-09T17:37:02.868413Z"
    },
    "code_folding": [],
    "hidden": true
   },
   "outputs": [],
   "source": [
    "df = pd.read_csv('data/scrobbles_ansesu.csv')\n",
    "from_zone = tz.tzutc()\n",
    "to_zone = tz.tzlocal()\n",
    "df['date'] = [datetime.strptime(date, '%d %b %Y, %H:%M').replace(tzinfo=from_zone).astimezone(to_zone) for date in df.utc_time]\n",
    "df['date']= pd.to_datetime(df['date'].values)\n",
    "df = df.set_index('date')\n",
    "\n",
    "for idx in df[df.artist == '水曜日のカンパネラ'].index:\n",
    "    df.at[idx, 'artist'] = 'Wednesday Campanella'\n",
    "for idx in df[df.artist == '水曜日のカンパネラ×shu uemura'].index:\n",
    "    df.at[idx, 'artist'] = 'Wednesday Campanella'    \n",
    "for idx in df[df.artist == 'Frederic'].index:\n",
    "    df.at[idx, 'artist'] = 'フレデリック'    "
   ]
  },
  {
   "cell_type": "code",
   "execution_count": 15,
   "metadata": {
    "ExecuteTime": {
     "end_time": "2020-07-09T17:37:45.594490Z",
     "start_time": "2020-07-09T17:37:05.389212Z"
    },
    "hidden": true
   },
   "outputs": [],
   "source": [
    "year = 2019\n",
    "# Create dataframe of specific year\n",
    "df['year'] = [date.year for date in df.index]\n",
    "df_year = df[df.year==2019].copy(deep=True)\n",
    "\n",
    "# Create a column 'track - artist'\n",
    "which_ = 'track'\n",
    "l=[]\n",
    "for i in df_year[f'{which_}'].values:\n",
    "    artist = df[df[f'{which_}'] == i].artist.values[0]\n",
    "    l.append(f'{i} - {artist}')\n",
    "df_year[f'{which_}_w_artist'] =l\n",
    "\n",
    "# Create a column 'album - artist'\n",
    "which_ = 'album'\n",
    "l=[]\n",
    "for i in df_year[f'{which_}'].values:\n",
    "    try:\n",
    "        artist = df[df[f'{which_}'] == i].artist.values[0]\n",
    "        l.append(f'{i} - {artist}')\n",
    "    except:\n",
    "        artist = ''\n",
    "        l.append(f'{i} - {artist}')        \n",
    "df_year[f'{which_}_w_artist'] =l"
   ]
  },
  {
   "cell_type": "markdown",
   "metadata": {
    "heading_collapsed": true
   },
   "source": [
    "# Prepare data for flourish.io"
   ]
  },
  {
   "cell_type": "markdown",
   "metadata": {
    "heading_collapsed": true,
    "hidden": true
   },
   "source": [
    "## All-time artist"
   ]
  },
  {
   "cell_type": "code",
   "execution_count": 6,
   "metadata": {
    "ExecuteTime": {
     "end_time": "2020-07-04T17:35:41.367577Z",
     "start_time": "2020-07-04T17:35:41.334771Z"
    },
    "hidden": true
   },
   "outputs": [
    {
     "data": {
      "text/plain": [
       "'starts at 7/2012 and ends at 7/2020'"
      ]
     },
     "execution_count": 6,
     "metadata": {},
     "output_type": "execute_result"
    }
   ],
   "source": [
    "which_ = 'artist'\n",
    "groupby_ = df.groupby(by=[df.index, which_]).agg('count')\n",
    "groupby_.index.names = ['date', which_]\n",
    "groupby_ = groupby_.reset_index()\n",
    "min_year, min_month = groupby_.date.min().year, groupby_.date.min().month\n",
    "max_year, max_month = groupby_.date.max().year, groupby_.date.max().month\n",
    "f'starts at {min_month}/{min_year} and ends at {max_month}/{max_year}'"
   ]
  },
  {
   "cell_type": "code",
   "execution_count": 7,
   "metadata": {
    "ExecuteTime": {
     "end_time": "2020-07-04T17:35:41.373320Z",
     "start_time": "2020-07-04T17:35:41.369236Z"
    },
    "hidden": true
   },
   "outputs": [],
   "source": [
    "start_date = datetime(min_year, min_month-1, 1)\n",
    "end_date = datetime(max_year, max_month+1, 1)\n",
    "date_range = pd.date_range(start_date, end_date, freq='M', closed='right').tolist()"
   ]
  },
  {
   "cell_type": "code",
   "execution_count": 8,
   "metadata": {
    "ExecuteTime": {
     "end_time": "2020-07-04T17:42:10.349657Z",
     "start_time": "2020-07-04T17:35:41.374656Z"
    },
    "hidden": true
   },
   "outputs": [],
   "source": [
    "all_artists = groupby_.artist.unique()\n",
    "df_ = pd.DataFrame({'artist': all_artists})\n",
    "\n",
    "for date1, date2 in zip(date_range[:-2], date_range[1:]):\n",
    "    l=[]\n",
    "    for artist in all_artists:\n",
    "        mask = (groupby_.date >= date1) & (groupby_.date < date2) & (groupby_.artist==artist)\n",
    "        l.append(groupby_[mask].track.sum())\n",
    "    month = date1.month + 1\n",
    "    year = date1.year\n",
    "    if month == 13:\n",
    "        month = 1\n",
    "        year = year + 1\n",
    "    df_[f'{month}/{year}']=l\n",
    "\n",
    "l=[]\n",
    "date1 = date_range[-2]\n",
    "date2 = date_range[-1]\n",
    "for artist in all_artists:\n",
    "    mask = (groupby_.date >= date1) & (groupby_.date <= date2) & (groupby_.artist==artist)\n",
    "    l.append(groupby_[mask].track.sum())\n",
    "month = date1.month + 1\n",
    "year = date1.year\n",
    "if month == 13:\n",
    "    month = 1\n",
    "    year = year + 1\n",
    "df_[f'{month}/{year}']=l"
   ]
  },
  {
   "cell_type": "code",
   "execution_count": 9,
   "metadata": {
    "ExecuteTime": {
     "end_time": "2020-07-04T17:42:10.376111Z",
     "start_time": "2020-07-04T17:42:10.350571Z"
    },
    "hidden": true
   },
   "outputs": [],
   "source": [
    "del df_['artist']\n",
    "df_ = df_.cumsum(axis=1)\n",
    "df_['artist'] = all_artists\n",
    "df_.to_csv('ansesu_alltime.csv')"
   ]
  },
  {
   "cell_type": "markdown",
   "metadata": {
    "heading_collapsed": true,
    "hidden": true
   },
   "source": [
    "## Yearly artist"
   ]
  },
  {
   "cell_type": "code",
   "execution_count": 10,
   "metadata": {
    "ExecuteTime": {
     "end_time": "2020-07-04T17:42:10.483993Z",
     "start_time": "2020-07-04T17:42:10.377062Z"
    },
    "hidden": true
   },
   "outputs": [],
   "source": [
    "which_ = 'artist'\n",
    "year = 2019\n",
    "groupby_ = df.groupby(by=[df.index, which_]).agg('count')\n",
    "groupby_.index.names = ['date', which_]\n",
    "groupby_ = groupby_.reset_index()\n",
    "groupby_['year'] = [date.year for date in groupby_.date]\n",
    "groupby_= groupby_[groupby_['year']==year]"
   ]
  },
  {
   "cell_type": "code",
   "execution_count": 11,
   "metadata": {
    "ExecuteTime": {
     "end_time": "2020-07-04T17:42:10.490847Z",
     "start_time": "2020-07-04T17:42:10.485392Z"
    },
    "hidden": true
   },
   "outputs": [],
   "source": [
    "start_date = datetime(year, 1, 1)\n",
    "end_date = datetime(year+1, 1, 2)\n",
    "date_range = pd.date_range(start_date, end_date, freq='d', closed='left').tolist()"
   ]
  },
  {
   "cell_type": "code",
   "execution_count": 12,
   "metadata": {
    "ExecuteTime": {
     "end_time": "2020-07-04T17:45:58.363949Z",
     "start_time": "2020-07-04T17:42:10.492088Z"
    },
    "hidden": true
   },
   "outputs": [],
   "source": [
    "all_artists = groupby_.artist.unique()\n",
    "df_ = pd.DataFrame({'artist': all_artists})\n",
    "\n",
    "for date1, date2 in zip(date_range[:-2], date_range[1:]):\n",
    "    l=[]\n",
    "    for artist in all_artists:\n",
    "        mask = (groupby_.date >= date1) & (groupby_.date < date2) & (groupby_.artist==artist)\n",
    "        l.append(groupby_[mask].track.sum())\n",
    "    day = date1.day    \n",
    "    month = date1.month\n",
    "    year = date1.year\n",
    "    df_[f'{day}/{month}/{year}']=l\n",
    "    \n",
    "l=[]\n",
    "date1 = date_range[-2]\n",
    "date2 = date_range[-1]\n",
    "for artist in all_artists:\n",
    "    mask = (groupby_.date >= date1) & (groupby_.date <= date2) & (groupby_.artist==artist)\n",
    "    l.append(groupby_[mask].track.sum())\n",
    "day = date1.day \n",
    "month = date1.month\n",
    "year = date1.year\n",
    "df_[f'{day}/{month}/{year}']=l"
   ]
  },
  {
   "cell_type": "code",
   "execution_count": 13,
   "metadata": {
    "ExecuteTime": {
     "end_time": "2020-07-04T17:45:58.391330Z",
     "start_time": "2020-07-04T17:45:58.364951Z"
    },
    "hidden": true
   },
   "outputs": [],
   "source": [
    "del df_['artist']\n",
    "df_ = df_.cumsum(axis=1)\n",
    "df_['artist'] = all_artists\n",
    "df_.to_csv('ansesu_artist_2019.csv')"
   ]
  },
  {
   "cell_type": "markdown",
   "metadata": {
    "heading_collapsed": true,
    "hidden": true
   },
   "source": [
    "## Yearly tracks"
   ]
  },
  {
   "cell_type": "code",
   "execution_count": 14,
   "metadata": {
    "ExecuteTime": {
     "end_time": "2020-07-04T17:45:58.514563Z",
     "start_time": "2020-07-04T17:45:58.392670Z"
    },
    "hidden": true
   },
   "outputs": [],
   "source": [
    "which_ = 'track'\n",
    "year = 2019\n",
    "groupby_ = df.groupby(by=[df.index, which_]).agg('count')\n",
    "groupby_.index.names = ['date', which_]\n",
    "groupby_ = groupby_.reset_index()\n",
    "groupby_['year'] = [date.year for date in groupby_.date]\n",
    "groupby_= groupby_[groupby_['year']==year]"
   ]
  },
  {
   "cell_type": "code",
   "execution_count": 15,
   "metadata": {
    "ExecuteTime": {
     "end_time": "2020-07-04T17:45:58.518562Z",
     "start_time": "2020-07-04T17:45:58.515453Z"
    },
    "hidden": true
   },
   "outputs": [],
   "source": [
    "start_date = datetime(year, 1, 1)\n",
    "end_date = datetime(year+1, 1, 2)\n",
    "date_range = pd.date_range(start_date, end_date, freq='d', closed='left').tolist()"
   ]
  },
  {
   "cell_type": "code",
   "execution_count": 16,
   "metadata": {
    "ExecuteTime": {
     "end_time": "2020-07-04T18:01:12.348677Z",
     "start_time": "2020-07-04T17:45:58.519531Z"
    },
    "hidden": true
   },
   "outputs": [],
   "source": [
    "all_ = groupby_[which_].unique()\n",
    "df_ = pd.DataFrame({which_: all_})\n",
    "\n",
    "for date1, date2 in zip(date_range[:-2], date_range[1:]):\n",
    "    l=[]\n",
    "    for i in all_:\n",
    "        mask = (groupby_.date >= date1) & (groupby_.date < date2) & (groupby_[which_]==i)\n",
    "        l.append(groupby_[mask].artist.sum())\n",
    "    day = date1.day    \n",
    "    month = date1.month\n",
    "    year = date1.year\n",
    "    df_[f'{day}/{month}/{year}']=l\n",
    "    \n",
    "l=[]\n",
    "date1 = date_range[-2]\n",
    "date2 = date_range[-1]\n",
    "for i in all_:\n",
    "    mask = (groupby_.date >= date1) & (groupby_.date <= date2) & (groupby_[which_]==i)\n",
    "    l.append(groupby_[mask].artist.sum())\n",
    "day = date1.day \n",
    "month = date1.month\n",
    "year = date1.year\n",
    "df_[f'{day}/{month}/{year}']=l"
   ]
  },
  {
   "cell_type": "code",
   "execution_count": 17,
   "metadata": {
    "ExecuteTime": {
     "end_time": "2020-07-04T18:01:12.432398Z",
     "start_time": "2020-07-04T18:01:12.349603Z"
    },
    "hidden": true
   },
   "outputs": [],
   "source": [
    "del df_[which_]\n",
    "df_ = df_.cumsum(axis=1)\n",
    "df_[which_] = all_\n",
    "l = []\n",
    "for i in df_[f'{which_}'].values:\n",
    "    artist = df[df[f'{which_}'] == i].artist.values[0]\n",
    "    l.append(f'{i} - {artist}')\n",
    "df_['full_name'] = l\n",
    "df_.to_csv(f'ansesu_{which_}_2019.csv')"
   ]
  },
  {
   "cell_type": "markdown",
   "metadata": {
    "heading_collapsed": true,
    "hidden": true
   },
   "source": [
    "## Yearly albums"
   ]
  },
  {
   "cell_type": "code",
   "execution_count": 18,
   "metadata": {
    "ExecuteTime": {
     "end_time": "2020-07-04T18:01:12.530933Z",
     "start_time": "2020-07-04T18:01:12.433321Z"
    },
    "hidden": true
   },
   "outputs": [],
   "source": [
    "which_ = 'album'\n",
    "year = 2019\n",
    "groupby_ = df.groupby(by=[df.index, which_]).agg('count')\n",
    "groupby_.index.names = ['date', which_]\n",
    "groupby_ = groupby_.reset_index()\n",
    "groupby_['year'] = [date.year for date in groupby_.date]\n",
    "groupby_= groupby_[groupby_['year']==year]"
   ]
  },
  {
   "cell_type": "code",
   "execution_count": 19,
   "metadata": {
    "ExecuteTime": {
     "end_time": "2020-07-04T18:01:12.535290Z",
     "start_time": "2020-07-04T18:01:12.531830Z"
    },
    "hidden": true
   },
   "outputs": [],
   "source": [
    "start_date = datetime(year, 1, 1)\n",
    "end_date = datetime(year+1, 1, 2)\n",
    "date_range = pd.date_range(start_date, end_date, freq='d', closed='left').tolist()"
   ]
  },
  {
   "cell_type": "code",
   "execution_count": 20,
   "metadata": {
    "ExecuteTime": {
     "end_time": "2020-07-04T18:08:01.770861Z",
     "start_time": "2020-07-04T18:01:12.537553Z"
    },
    "hidden": true
   },
   "outputs": [],
   "source": [
    "all_ = groupby_[which_].unique()\n",
    "df_ = pd.DataFrame({which_: all_})\n",
    "\n",
    "for date1, date2 in zip(date_range[:-2], date_range[1:]):\n",
    "    l=[]\n",
    "    for i in all_:\n",
    "        mask = (groupby_.date >= date1) & (groupby_.date < date2) & (groupby_[which_]==i)\n",
    "        l.append(groupby_[mask].artist.sum())\n",
    "    day = date1.day    \n",
    "    month = date1.month\n",
    "    year = date1.year\n",
    "    df_[f'{day}/{month}/{year}']=l\n",
    "    \n",
    "l=[]\n",
    "date1 = date_range[-2]\n",
    "date2 = date_range[-1]\n",
    "for i in all_:\n",
    "    mask = (groupby_.date >= date1) & (groupby_.date <= date2) & (groupby_[which_]==i)\n",
    "    l.append(groupby_[mask].artist.sum())\n",
    "day = date1.day \n",
    "month = date1.month\n",
    "year = date1.year\n",
    "df_[f'{day}/{month}/{year}']=l"
   ]
  },
  {
   "cell_type": "code",
   "execution_count": 21,
   "metadata": {
    "ExecuteTime": {
     "end_time": "2020-07-04T18:08:01.820691Z",
     "start_time": "2020-07-04T18:08:01.771854Z"
    },
    "hidden": true
   },
   "outputs": [],
   "source": [
    "del df_[which_]\n",
    "df_ = df_.cumsum(axis=1)\n",
    "df_[which_] = all_\n",
    "l = []\n",
    "for i in df_[f'{which_}'].values:\n",
    "    artist = df[df[f'{which_}'] == i].artist.values[0]\n",
    "    l.append(f'{i} - {artist}')\n",
    "df_['full_name'] = l\n",
    "df_.to_csv(f'ansesu_{which_}_2019.csv')"
   ]
  },
  {
   "cell_type": "markdown",
   "metadata": {
    "heading_collapsed": true
   },
   "source": [
    "# My yearly top tracks"
   ]
  },
  {
   "cell_type": "code",
   "execution_count": 95,
   "metadata": {
    "ExecuteTime": {
     "end_time": "2020-07-09T17:14:25.961996Z",
     "start_time": "2020-07-09T17:14:25.952692Z"
    },
    "hidden": true
   },
   "outputs": [],
   "source": [
    "which_='track'\n",
    "track, counts = np.unique(df_year[f'{which_}_w_artist'], return_counts=True)\n",
    "df_track = pd.DataFrame({\n",
    "           'track': track,\n",
    "           'count': counts\n",
    "           })"
   ]
  },
  {
   "cell_type": "code",
   "execution_count": 107,
   "metadata": {
    "ExecuteTime": {
     "end_time": "2020-07-09T17:16:48.139287Z",
     "start_time": "2020-07-09T17:16:48.133065Z"
    },
    "hidden": true
   },
   "outputs": [
    {
     "name": "stdout",
     "output_type": "stream",
     "text": [
      "1) Pick U Up - Foster the People (159 plays)\n",
      "2) Imagination - Foster the People (102 plays)\n",
      "3) Style - Foster the People (65 plays)\n",
      "4) Half of the Way - Vulfpeck (61 plays)\n",
      "5) Wait For The Moment - Vulfpeck (57 plays)\n",
      "6) Worst Nites - Foster the People (52 plays)\n",
      "7) 1612 - Vulfpeck (51 plays)\n",
      "8) Don't Stop (Color on the Walls) - Foster the People (49 plays)\n",
      "9) Goats in Trees - Foster the People (49 plays)\n",
      "10) Helena Beat - Foster the People (48 plays)\n"
     ]
    }
   ],
   "source": [
    "for j, i in enumerate(df_track.sort_values('count', ascending=False)[['track','count']].values[:10]):\n",
    "    print(f'{j+1}) {i[0]} ({i[1]} plays)')"
   ]
  },
  {
   "cell_type": "markdown",
   "metadata": {
    "heading_collapsed": true
   },
   "source": [
    "# My yearly top albums"
   ]
  },
  {
   "cell_type": "code",
   "execution_count": 117,
   "metadata": {
    "ExecuteTime": {
     "end_time": "2020-07-09T17:22:20.994645Z",
     "start_time": "2020-07-09T17:22:20.986902Z"
    },
    "hidden": true
   },
   "outputs": [],
   "source": [
    "which_='album'\n",
    "album, counts = np.unique(df_year[f'{which_}_w_artist'], return_counts=True)\n",
    "df_album = pd.DataFrame({\n",
    "           'album': album,\n",
    "           'count': counts\n",
    "           })"
   ]
  },
  {
   "cell_type": "code",
   "execution_count": 118,
   "metadata": {
    "ExecuteTime": {
     "end_time": "2020-07-09T17:22:33.166452Z",
     "start_time": "2020-07-09T17:22:33.157873Z"
    },
    "hidden": true
   },
   "outputs": [
    {
     "name": "stdout",
     "output_type": "stream",
     "text": [
      "1) Torches - Foster the People (418 plays)\n",
      "2) Supermodel - Foster the People (339 plays)\n",
      "3) Thrill of the Arts - Vulfpeck (312 plays)\n",
      "4) Sacred Hearts Club - Foster the People (302 plays)\n",
      "5) hill climber - Vulfpeck (286 plays)\n",
      "6) The Beautiful Game - Vulfpeck (280 plays)\n",
      "7) Saintmotelevision - Saint Motel (236 plays)\n",
      "8) Pick U Up - Foster the People (216 plays)\n",
      "9) Fugue State - Vulfpeck (213 plays)\n",
      "10) Mr Finish Line - Vulfpeck (194 plays)\n"
     ]
    }
   ],
   "source": [
    "for j, i in enumerate(df_album.sort_values('count', ascending=False)[['album','count']].values[:10]):\n",
    "    print(f'{j+1}) {i[0]} ({i[1]} plays)')"
   ]
  },
  {
   "cell_type": "markdown",
   "metadata": {
    "heading_collapsed": true
   },
   "source": [
    "# Yearly listening time distribution"
   ]
  },
  {
   "cell_type": "code",
   "execution_count": 16,
   "metadata": {
    "ExecuteTime": {
     "end_time": "2020-07-09T17:37:45.635603Z",
     "start_time": "2020-07-09T17:37:45.626053Z"
    },
    "code_folding": [
     0
    ],
    "hidden": true
   },
   "outputs": [],
   "source": [
    "df_year['hour'] = [date.hour for date in df_year.index]\n",
    "hour, count = np.unique(df_year['hour'], return_counts=True)\n",
    "df_hour = pd.DataFrame({'hour': hour,\n",
    "                        'count': count})"
   ]
  },
  {
   "cell_type": "code",
   "execution_count": 17,
   "metadata": {
    "ExecuteTime": {
     "end_time": "2020-07-09T17:37:45.695442Z",
     "start_time": "2020-07-09T17:37:45.669847Z"
    },
    "hidden": true
   },
   "outputs": [
    {
     "data": {
      "text/plain": [
       "'/home/andre/github/lastfm/html/daily_hours_2019.html'"
      ]
     },
     "execution_count": 17,
     "metadata": {},
     "output_type": "execute_result"
    }
   ],
   "source": [
    "filename = 'daily_hours'\n",
    "\n",
    "fig = figure(plot_width=plot_width, plot_height=plot_height, tools=\"\", sizing_mode='stretch_both')\n",
    "source = ColumnDataSource(df_hour)\n",
    "\n",
    "bar = fig.vbar(x='hour', top='count', width=0.9, source=source, fill_color='#F8766D', line_width=0, alpha=0.85)\n",
    "\n",
    "hover = HoverTool(renderers=[bar])\n",
    "hover.tooltips=[\n",
    "    ('Horário', '@hour'+':00h'),\n",
    "    ('Quantidade', '@count{,}'),\n",
    "]\n",
    "\n",
    "fig.add_tools(hover)\n",
    "fig.xaxis.ticker = source.data['hour']\n",
    "\n",
    "fig.xaxis.formatter = BasicTickFormatter(use_scientific=False)\n",
    "\n",
    "fig.yaxis.axis_label = 'Número de músicas'\n",
    "fig.xaxis.axis_label = 'Horário, h'\n",
    "\n",
    "fig.toolbar.logo = None\n",
    "fig.toolbar_location = None\n",
    "fig.y_range.start = 0\n",
    "fig.x_range.start = -.5\n",
    "fig.x_range.end = 23.5\n",
    "fig.xaxis.axis_label_text_font_size = \"14pt\"\n",
    "fig.yaxis.axis_label_text_font_size = \"14pt\"\n",
    "fig.xaxis.major_label_text_font_size = \"12pt\"\n",
    "fig.yaxis.major_label_text_font_size = \"12pt\"\n",
    "fig.xaxis.axis_label_text_font_style = 'normal'\n",
    "fig.yaxis.axis_label_text_font_style = 'normal'\n",
    "fig.xgrid.grid_line_color = None\n",
    "fig.ygrid.grid_line_color = None\n",
    "output_file(f\"html/{filename}_{year}.html\")\n",
    "save(fig,f\"html/{filename}_{year}.html\")"
   ]
  },
  {
   "cell_type": "markdown",
   "metadata": {
    "heading_collapsed": true
   },
   "source": [
    "# Yearly month count distribution"
   ]
  },
  {
   "cell_type": "code",
   "execution_count": 18,
   "metadata": {
    "ExecuteTime": {
     "end_time": "2020-07-09T17:37:45.741292Z",
     "start_time": "2020-07-09T17:37:45.730701Z"
    },
    "hidden": true
   },
   "outputs": [],
   "source": [
    "df_year['month'] = [date.month for date in df_year.index]\n",
    "month, count = np.unique(df_year['month'], return_counts=True)\n",
    "df_month = pd.DataFrame({'month': month,\n",
    "                        'count': count})\n",
    "df_month['month_str'] = ['Jan', 'Fev', 'Mar', 'Abr', 'Mai', 'Jun', 'Jul', 'Ago', 'Set', 'Out', 'Nov', 'Dez']\n",
    "df_month['month_str_complete'] = ['Janeiro', 'Fevereiro', 'Março', 'Abril', 'Maio', 'Junho', 'Julho', 'Agosto', 'Setembro', 'Outubro', 'Novembro', 'Dezembro']"
   ]
  },
  {
   "cell_type": "code",
   "execution_count": 19,
   "metadata": {
    "ExecuteTime": {
     "end_time": "2020-07-09T17:37:45.806066Z",
     "start_time": "2020-07-09T17:37:45.779270Z"
    },
    "hidden": true
   },
   "outputs": [
    {
     "data": {
      "text/plain": [
       "'/home/andre/github/lastfm/html/month_counts_2019.html'"
      ]
     },
     "execution_count": 19,
     "metadata": {},
     "output_type": "execute_result"
    }
   ],
   "source": [
    "filename = 'month_counts'\n",
    "\n",
    "fig = figure(plot_width=plot_width, plot_height=plot_height, tools=\"\", sizing_mode='stretch_both')\n",
    "source = ColumnDataSource(df_month)\n",
    "\n",
    "bar = fig.vbar(x='month', top='count', width=0.9, source=source, fill_color='#756bb1', line_width=0, alpha=0.85)\n",
    "\n",
    "hover = HoverTool(renderers=[bar])\n",
    "hover.tooltips=[\n",
    "    ('Mês', '@month_str_complete'),\n",
    "    ('Quantidade', '@count{,}'),\n",
    "]\n",
    "\n",
    "fig.add_tools(hover)\n",
    "fig.xaxis.ticker = source.data['month']\n",
    "fig.xaxis.major_label_overrides = {int(i): month for i, month in zip(df_month['month'], df_month['month_str'])}\n",
    "\n",
    "fig.yaxis.axis_label = 'Número de músicas'\n",
    "fig.xaxis.axis_label = 'Mês'\n",
    "\n",
    "fig.toolbar.logo = None\n",
    "fig.toolbar_location = None\n",
    "fig.y_range.start = 0\n",
    "fig.x_range.start = .5\n",
    "fig.x_range.end = 12.5\n",
    "fig.xaxis.axis_label_text_font_size = \"14pt\"\n",
    "fig.yaxis.axis_label_text_font_size = \"14pt\"\n",
    "fig.xaxis.major_label_text_font_size = \"12pt\"\n",
    "fig.yaxis.major_label_text_font_size = \"12pt\"\n",
    "fig.xaxis.axis_label_text_font_style = 'normal'\n",
    "fig.yaxis.axis_label_text_font_style = 'normal'\n",
    "fig.xgrid.grid_line_color = None\n",
    "fig.ygrid.grid_line_color = None\n",
    "output_file(f\"html/{filename}_{year}.html\")\n",
    "save(fig,f\"html/{filename}_{year}.html\")"
   ]
  },
  {
   "cell_type": "markdown",
   "metadata": {
    "heading_collapsed": true
   },
   "source": [
    "# Weekdays count distribution"
   ]
  },
  {
   "cell_type": "code",
   "execution_count": 20,
   "metadata": {
    "ExecuteTime": {
     "end_time": "2020-07-09T17:37:45.869731Z",
     "start_time": "2020-07-09T17:37:45.859020Z"
    },
    "hidden": true
   },
   "outputs": [],
   "source": [
    "df_year['weekday'] = [date.weekday() for date in df_year.index]\n",
    "weekday, count = np.unique(df_year['weekday'], return_counts=True)\n",
    "df_weekday = pd.DataFrame({'weekday': weekday,\n",
    "                        'count': count})\n",
    "df_weekday['weekday_str'] = ['Mon', 'Tue', 'Wed', 'Thu', 'Fri', 'Sat', 'Sun']\n",
    "df_weekday['weekday_str_complete'] = ['Monday', 'Tuesday', 'Wednesday', 'Thursday', 'Friday', 'Saturday', 'Sunday']"
   ]
  },
  {
   "cell_type": "code",
   "execution_count": 21,
   "metadata": {
    "ExecuteTime": {
     "end_time": "2020-07-09T17:37:45.950985Z",
     "start_time": "2020-07-09T17:37:45.910842Z"
    },
    "hidden": true
   },
   "outputs": [
    {
     "data": {
      "text/plain": [
       "'/home/andre/github/lastfm/html/weekday_counts_2019.html'"
      ]
     },
     "execution_count": 21,
     "metadata": {},
     "output_type": "execute_result"
    }
   ],
   "source": [
    "filename = 'weekday_counts'\n",
    "\n",
    "fig = figure(plot_width=plot_width, plot_height=plot_height, tools=\"\", sizing_mode='stretch_both')\n",
    "source = ColumnDataSource(df_weekday)\n",
    "\n",
    "bar = fig.vbar(x='weekday', top='count', width=0.9, source=source, fill_color='#2ca25f', line_width=0, alpha=0.85)\n",
    "\n",
    "hover = HoverTool(renderers=[bar])\n",
    "hover.tooltips=[\n",
    "    ('Mês', '@weekday_str_complete'),\n",
    "    ('Quantidade', '@count{,}'),\n",
    "]\n",
    "\n",
    "fig.add_tools(hover)\n",
    "fig.xaxis.ticker = source.data['weekday']\n",
    "fig.xaxis.major_label_overrides = {int(i): month for i, month in zip(df_weekday['weekday'], df_weekday['weekday_str'])}\n",
    "\n",
    "fig.yaxis.axis_label = 'Número de músicas'\n",
    "fig.xaxis.axis_label = 'Dia da semana'\n",
    "\n",
    "fig.toolbar.logo = None\n",
    "fig.toolbar_location = None\n",
    "fig.y_range.start = 0\n",
    "fig.x_range.start = -.5\n",
    "fig.x_range.end = 6.5\n",
    "fig.xaxis.axis_label_text_font_size = \"14pt\"\n",
    "fig.yaxis.axis_label_text_font_size = \"14pt\"\n",
    "fig.xaxis.major_label_text_font_size = \"12pt\"\n",
    "fig.yaxis.major_label_text_font_size = \"12pt\"\n",
    "fig.xaxis.axis_label_text_font_style = 'normal'\n",
    "fig.yaxis.axis_label_text_font_style = 'normal'\n",
    "fig.xgrid.grid_line_color = None\n",
    "fig.ygrid.grid_line_color = None\n",
    "output_file(f\"html/{filename}_{year}.html\")\n",
    "save(fig,f\"html/{filename}_{year}.html\")"
   ]
  }
 ],
 "metadata": {
  "kernelspec": {
   "display_name": "Python 3",
   "language": "python",
   "name": "python3"
  },
  "language_info": {
   "codemirror_mode": {
    "name": "ipython",
    "version": 3
   },
   "file_extension": ".py",
   "mimetype": "text/x-python",
   "name": "python",
   "nbconvert_exporter": "python",
   "pygments_lexer": "ipython3",
   "version": "3.7.6"
  },
  "toc": {
   "base_numbering": 1,
   "nav_menu": {},
   "number_sections": true,
   "sideBar": true,
   "skip_h1_title": false,
   "title_cell": "Table of Contents",
   "title_sidebar": "Contents",
   "toc_cell": false,
   "toc_position": {},
   "toc_section_display": true,
   "toc_window_display": false
  },
  "varInspector": {
   "cols": {
    "lenName": 16,
    "lenType": 16,
    "lenVar": 40
   },
   "kernels_config": {
    "python": {
     "delete_cmd_postfix": "",
     "delete_cmd_prefix": "del ",
     "library": "var_list.py",
     "varRefreshCmd": "print(var_dic_list())"
    },
    "r": {
     "delete_cmd_postfix": ") ",
     "delete_cmd_prefix": "rm(",
     "library": "var_list.r",
     "varRefreshCmd": "cat(var_dic_list()) "
    }
   },
   "types_to_exclude": [
    "module",
    "function",
    "builtin_function_or_method",
    "instance",
    "_Feature"
   ],
   "window_display": false
  }
 },
 "nbformat": 4,
 "nbformat_minor": 2
}

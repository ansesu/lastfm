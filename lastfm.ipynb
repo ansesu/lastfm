{
 "cells": [
  {
   "cell_type": "code",
   "execution_count": 1,
   "metadata": {
    "ExecuteTime": {
     "end_time": "2020-07-09T18:59:35.133121Z",
     "start_time": "2020-07-09T18:59:34.808851Z"
    }
   },
   "outputs": [
    {
     "data": {
      "text/html": [
       "<style>.container {width:99.5% !important;} </style>"
      ],
      "text/plain": [
       "<IPython.core.display.HTML object>"
      ]
     },
     "metadata": {},
     "output_type": "display_data"
    }
   ],
   "source": [
    "import warnings\n",
    "import pandas as pd\n",
    "import numpy as np\n",
    "import datetime\n",
    "from datetime import datetime, timedelta\n",
    "from dateutil import tz\n",
    "from IPython.core.display import display, HTML\n",
    "display(HTML(\"<style>.container {width:99.5% !important;} </style>\"))\n",
    "%config Completer.use_jedi = False"
   ]
  },
  {
   "cell_type": "code",
   "execution_count": 2,
   "metadata": {
    "ExecuteTime": {
     "end_time": "2020-07-09T18:59:35.531462Z",
     "start_time": "2020-07-09T18:59:35.146796Z"
    }
   },
   "outputs": [],
   "source": [
    "from bokeh.plotting import figure, output_file, show\n",
    "from bokeh.models import ColumnDataSource, Label, Range1d, BasicTickFormatter, LabelSet, DatetimeTickFormatter, DataRange1d, Span, ColorBar, Title\n",
    "from bokeh.models.tools import HoverTool\n",
    "from bokeh.layouts import layout, column, row\n",
    "from bokeh.io import save\n",
    "plot_width = 700\n",
    "plot_height = 500"
   ]
  },
  {
   "cell_type": "code",
   "execution_count": 3,
   "metadata": {
    "ExecuteTime": {
     "end_time": "2020-07-09T18:59:35.606528Z",
     "start_time": "2020-07-09T18:59:35.544479Z"
    },
    "code_folding": [
     1
    ]
   },
   "outputs": [],
   "source": [
    "import matplotlib as mpl\n",
    "rcparams = {'font.family':         'sans-serif',\n",
    "            'font.sans-serif':     ['Helvetica'],\n",
    "            'axes.labelsize':      28,\n",
    "            'axes.titlesize':      28,\n",
    "            'legend.fontsize':     20,\n",
    "            'ytick.right':         'off',\n",
    "            'xtick.top':           'off',\n",
    "            'ytick.left':          'on',\n",
    "            'xtick.bottom':        'on',\n",
    "            'xtick.labelsize':     '28',\n",
    "            'ytick.labelsize':     '28',\n",
    "            'axes.linewidth':       2.5,\n",
    "            'xtick.major.width':    1.8,\n",
    "            'xtick.minor.width':    1.8,\n",
    "            'xtick.major.size':     14,\n",
    "            'xtick.minor.size':     7,\n",
    "            'xtick.major.pad':      10,\n",
    "            'xtick.minor.pad':      10,\n",
    "            'ytick.major.width':    1.8,\n",
    "            'ytick.minor.width':    1.8,\n",
    "            'ytick.major.size':     14,\n",
    "            'ytick.minor.size':     7,\n",
    "            'ytick.major.pad':      10,\n",
    "            'ytick.minor.pad':      10,\n",
    "            'axes.labelpad':        15,\n",
    "            'axes.titlepad':        15,\n",
    "            'axes.spines.right':    False,\n",
    "            'axes.spines.top':      False,\n",
    "#             'axes.spines.left':      False\n",
    "           }\n",
    "mpl.rcParams.update(rcparams)"
   ]
  },
  {
   "cell_type": "code",
   "execution_count": 4,
   "metadata": {
    "ExecuteTime": {
     "end_time": "2020-07-09T18:59:35.624756Z",
     "start_time": "2020-07-09T18:59:35.620743Z"
    }
   },
   "outputs": [],
   "source": [
    "from_zone = tz.tzutc()\n",
    "to_zone = tz.tzlocal()"
   ]
  },
  {
   "cell_type": "markdown",
   "metadata": {
    "heading_collapsed": true
   },
   "source": [
    "# Data"
   ]
  },
  {
   "cell_type": "code",
   "execution_count": 5,
   "metadata": {
    "ExecuteTime": {
     "end_time": "2020-07-09T18:59:38.380766Z",
     "start_time": "2020-07-09T18:59:36.571742Z"
    },
    "code_folding": [],
    "hidden": true
   },
   "outputs": [],
   "source": [
    "df = pd.read_csv('data/scrobbles_ansesu.csv')\n",
    "from_zone = tz.tzutc()\n",
    "to_zone = tz.tzlocal()\n",
    "df['date'] = [datetime.strptime(date, '%d %b %Y, %H:%M').replace(tzinfo=from_zone).astimezone(to_zone) for date in df.utc_time]\n",
    "df['date']= pd.to_datetime(df['date'].values)\n",
    "df = df.set_index('date')\n",
    "\n",
    "for idx in df[df.artist == '水曜日のカンパネラ'].index:\n",
    "    df.at[idx, 'artist'] = 'Wednesday Campanella'\n",
    "for idx in df[df.artist == '水曜日のカンパネラ×shu uemura'].index:\n",
    "    df.at[idx, 'artist'] = 'Wednesday Campanella'    \n",
    "for idx in df[df.artist == 'Frederic'].index:\n",
    "    df.at[idx, 'artist'] = 'フレデリック'    "
   ]
  },
  {
   "cell_type": "code",
   "execution_count": 6,
   "metadata": {
    "ExecuteTime": {
     "end_time": "2020-07-09T19:00:59.482024Z",
     "start_time": "2020-07-09T18:59:38.410636Z"
    },
    "hidden": true
   },
   "outputs": [],
   "source": [
    "year = 2019\n",
    "# Create dataframe of specific year\n",
    "df['year'] = [date.year for date in df.index]\n",
    "df_year = df[df.year==2019].copy(deep=True)\n",
    "\n",
    "# Create a column 'track - artist'\n",
    "which_ = 'track'\n",
    "l=[]\n",
    "for i in df_year[f'{which_}'].values:\n",
    "    artist = df[df[f'{which_}'] == i].artist.values[0]\n",
    "    l.append(f'{i} - {artist}')\n",
    "df_year[f'{which_}_w_artist'] =l\n",
    "\n",
    "# Create a column 'album - artist'\n",
    "which_ = 'album'\n",
    "l=[]\n",
    "for i in df_year[f'{which_}'].values:\n",
    "    try:\n",
    "        artist = df[df[f'{which_}'] == i].artist.values[0]\n",
    "        l.append(f'{i} - {artist}')\n",
    "    except:\n",
    "        artist = ''\n",
    "        l.append(f'{i} - {artist}')        \n",
    "df_year[f'{which_}_w_artist'] =l"
   ]
  },
  {
   "cell_type": "markdown",
   "metadata": {
    "heading_collapsed": true
   },
   "source": [
    "# Prepare data for flourish.io"
   ]
  },
  {
   "cell_type": "markdown",
   "metadata": {
    "heading_collapsed": true,
    "hidden": true
   },
   "source": [
    "## All-time artist"
   ]
  },
  {
   "cell_type": "code",
   "execution_count": 6,
   "metadata": {
    "ExecuteTime": {
     "end_time": "2020-07-04T17:35:41.367577Z",
     "start_time": "2020-07-04T17:35:41.334771Z"
    },
    "hidden": true
   },
   "outputs": [
    {
     "data": {
      "text/plain": [
       "'starts at 7/2012 and ends at 7/2020'"
      ]
     },
     "execution_count": 6,
     "metadata": {},
     "output_type": "execute_result"
    }
   ],
   "source": [
    "which_ = 'artist'\n",
    "groupby_ = df.groupby(by=[df.index, which_]).agg('count')\n",
    "groupby_.index.names = ['date', which_]\n",
    "groupby_ = groupby_.reset_index()\n",
    "min_year, min_month = groupby_.date.min().year, groupby_.date.min().month\n",
    "max_year, max_month = groupby_.date.max().year, groupby_.date.max().month\n",
    "f'starts at {min_month}/{min_year} and ends at {max_month}/{max_year}'"
   ]
  },
  {
   "cell_type": "code",
   "execution_count": 7,
   "metadata": {
    "ExecuteTime": {
     "end_time": "2020-07-04T17:35:41.373320Z",
     "start_time": "2020-07-04T17:35:41.369236Z"
    },
    "hidden": true
   },
   "outputs": [],
   "source": [
    "start_date = datetime(min_year, min_month-1, 1)\n",
    "end_date = datetime(max_year, max_month+1, 1)\n",
    "date_range = pd.date_range(start_date, end_date, freq='M', closed='right').tolist()"
   ]
  },
  {
   "cell_type": "code",
   "execution_count": 8,
   "metadata": {
    "ExecuteTime": {
     "end_time": "2020-07-04T17:42:10.349657Z",
     "start_time": "2020-07-04T17:35:41.374656Z"
    },
    "hidden": true
   },
   "outputs": [],
   "source": [
    "all_artists = groupby_.artist.unique()\n",
    "df_ = pd.DataFrame({'artist': all_artists})\n",
    "\n",
    "for date1, date2 in zip(date_range[:-2], date_range[1:]):\n",
    "    l=[]\n",
    "    for artist in all_artists:\n",
    "        mask = (groupby_.date >= date1) & (groupby_.date < date2) & (groupby_.artist==artist)\n",
    "        l.append(groupby_[mask].track.sum())\n",
    "    month = date1.month + 1\n",
    "    year = date1.year\n",
    "    if month == 13:\n",
    "        month = 1\n",
    "        year = year + 1\n",
    "    df_[f'{month}/{year}']=l\n",
    "\n",
    "l=[]\n",
    "date1 = date_range[-2]\n",
    "date2 = date_range[-1]\n",
    "for artist in all_artists:\n",
    "    mask = (groupby_.date >= date1) & (groupby_.date <= date2) & (groupby_.artist==artist)\n",
    "    l.append(groupby_[mask].track.sum())\n",
    "month = date1.month + 1\n",
    "year = date1.year\n",
    "if month == 13:\n",
    "    month = 1\n",
    "    year = year + 1\n",
    "df_[f'{month}/{year}']=l"
   ]
  },
  {
   "cell_type": "code",
   "execution_count": 9,
   "metadata": {
    "ExecuteTime": {
     "end_time": "2020-07-04T17:42:10.376111Z",
     "start_time": "2020-07-04T17:42:10.350571Z"
    },
    "hidden": true
   },
   "outputs": [],
   "source": [
    "del df_['artist']\n",
    "df_ = df_.cumsum(axis=1)\n",
    "df_['artist'] = all_artists\n",
    "df_.to_csv('ansesu_alltime.csv')"
   ]
  },
  {
   "cell_type": "markdown",
   "metadata": {
    "heading_collapsed": true,
    "hidden": true
   },
   "source": [
    "## Yearly artist"
   ]
  },
  {
   "cell_type": "code",
   "execution_count": 10,
   "metadata": {
    "ExecuteTime": {
     "end_time": "2020-07-04T17:42:10.483993Z",
     "start_time": "2020-07-04T17:42:10.377062Z"
    },
    "hidden": true
   },
   "outputs": [],
   "source": [
    "which_ = 'artist'\n",
    "year = 2019\n",
    "groupby_ = df.groupby(by=[df.index, which_]).agg('count')\n",
    "groupby_.index.names = ['date', which_]\n",
    "groupby_ = groupby_.reset_index()\n",
    "groupby_['year'] = [date.year for date in groupby_.date]\n",
    "groupby_= groupby_[groupby_['year']==year]"
   ]
  },
  {
   "cell_type": "code",
   "execution_count": 11,
   "metadata": {
    "ExecuteTime": {
     "end_time": "2020-07-04T17:42:10.490847Z",
     "start_time": "2020-07-04T17:42:10.485392Z"
    },
    "hidden": true
   },
   "outputs": [],
   "source": [
    "start_date = datetime(year, 1, 1)\n",
    "end_date = datetime(year+1, 1, 2)\n",
    "date_range = pd.date_range(start_date, end_date, freq='d', closed='left').tolist()"
   ]
  },
  {
   "cell_type": "code",
   "execution_count": 12,
   "metadata": {
    "ExecuteTime": {
     "end_time": "2020-07-04T17:45:58.363949Z",
     "start_time": "2020-07-04T17:42:10.492088Z"
    },
    "hidden": true
   },
   "outputs": [],
   "source": [
    "all_artists = groupby_.artist.unique()\n",
    "df_ = pd.DataFrame({'artist': all_artists})\n",
    "\n",
    "for date1, date2 in zip(date_range[:-2], date_range[1:]):\n",
    "    l=[]\n",
    "    for artist in all_artists:\n",
    "        mask = (groupby_.date >= date1) & (groupby_.date < date2) & (groupby_.artist==artist)\n",
    "        l.append(groupby_[mask].track.sum())\n",
    "    day = date1.day    \n",
    "    month = date1.month\n",
    "    year = date1.year\n",
    "    df_[f'{day}/{month}/{year}']=l\n",
    "    \n",
    "l=[]\n",
    "date1 = date_range[-2]\n",
    "date2 = date_range[-1]\n",
    "for artist in all_artists:\n",
    "    mask = (groupby_.date >= date1) & (groupby_.date <= date2) & (groupby_.artist==artist)\n",
    "    l.append(groupby_[mask].track.sum())\n",
    "day = date1.day \n",
    "month = date1.month\n",
    "year = date1.year\n",
    "df_[f'{day}/{month}/{year}']=l"
   ]
  },
  {
   "cell_type": "code",
   "execution_count": 13,
   "metadata": {
    "ExecuteTime": {
     "end_time": "2020-07-04T17:45:58.391330Z",
     "start_time": "2020-07-04T17:45:58.364951Z"
    },
    "hidden": true
   },
   "outputs": [],
   "source": [
    "del df_['artist']\n",
    "df_ = df_.cumsum(axis=1)\n",
    "df_['artist'] = all_artists\n",
    "df_.to_csv('ansesu_artist_2019.csv')"
   ]
  },
  {
   "cell_type": "markdown",
   "metadata": {
    "heading_collapsed": true,
    "hidden": true
   },
   "source": [
    "## Yearly tracks"
   ]
  },
  {
   "cell_type": "code",
   "execution_count": 14,
   "metadata": {
    "ExecuteTime": {
     "end_time": "2020-07-04T17:45:58.514563Z",
     "start_time": "2020-07-04T17:45:58.392670Z"
    },
    "hidden": true
   },
   "outputs": [],
   "source": [
    "which_ = 'track'\n",
    "year = 2019\n",
    "groupby_ = df.groupby(by=[df.index, which_]).agg('count')\n",
    "groupby_.index.names = ['date', which_]\n",
    "groupby_ = groupby_.reset_index()\n",
    "groupby_['year'] = [date.year for date in groupby_.date]\n",
    "groupby_= groupby_[groupby_['year']==year]"
   ]
  },
  {
   "cell_type": "code",
   "execution_count": 15,
   "metadata": {
    "ExecuteTime": {
     "end_time": "2020-07-04T17:45:58.518562Z",
     "start_time": "2020-07-04T17:45:58.515453Z"
    },
    "hidden": true
   },
   "outputs": [],
   "source": [
    "start_date = datetime(year, 1, 1)\n",
    "end_date = datetime(year+1, 1, 2)\n",
    "date_range = pd.date_range(start_date, end_date, freq='d', closed='left').tolist()"
   ]
  },
  {
   "cell_type": "code",
   "execution_count": 16,
   "metadata": {
    "ExecuteTime": {
     "end_time": "2020-07-04T18:01:12.348677Z",
     "start_time": "2020-07-04T17:45:58.519531Z"
    },
    "hidden": true
   },
   "outputs": [],
   "source": [
    "all_ = groupby_[which_].unique()\n",
    "df_ = pd.DataFrame({which_: all_})\n",
    "\n",
    "for date1, date2 in zip(date_range[:-2], date_range[1:]):\n",
    "    l=[]\n",
    "    for i in all_:\n",
    "        mask = (groupby_.date >= date1) & (groupby_.date < date2) & (groupby_[which_]==i)\n",
    "        l.append(groupby_[mask].artist.sum())\n",
    "    day = date1.day    \n",
    "    month = date1.month\n",
    "    year = date1.year\n",
    "    df_[f'{day}/{month}/{year}']=l\n",
    "    \n",
    "l=[]\n",
    "date1 = date_range[-2]\n",
    "date2 = date_range[-1]\n",
    "for i in all_:\n",
    "    mask = (groupby_.date >= date1) & (groupby_.date <= date2) & (groupby_[which_]==i)\n",
    "    l.append(groupby_[mask].artist.sum())\n",
    "day = date1.day \n",
    "month = date1.month\n",
    "year = date1.year\n",
    "df_[f'{day}/{month}/{year}']=l"
   ]
  },
  {
   "cell_type": "code",
   "execution_count": 17,
   "metadata": {
    "ExecuteTime": {
     "end_time": "2020-07-04T18:01:12.432398Z",
     "start_time": "2020-07-04T18:01:12.349603Z"
    },
    "hidden": true
   },
   "outputs": [],
   "source": [
    "del df_[which_]\n",
    "df_ = df_.cumsum(axis=1)\n",
    "df_[which_] = all_\n",
    "l = []\n",
    "for i in df_[f'{which_}'].values:\n",
    "    artist = df[df[f'{which_}'] == i].artist.values[0]\n",
    "    l.append(f'{i} - {artist}')\n",
    "df_['full_name'] = l\n",
    "df_.to_csv(f'ansesu_{which_}_2019.csv')"
   ]
  },
  {
   "cell_type": "markdown",
   "metadata": {
    "heading_collapsed": true,
    "hidden": true
   },
   "source": [
    "## Yearly albums"
   ]
  },
  {
   "cell_type": "code",
   "execution_count": 18,
   "metadata": {
    "ExecuteTime": {
     "end_time": "2020-07-04T18:01:12.530933Z",
     "start_time": "2020-07-04T18:01:12.433321Z"
    },
    "hidden": true
   },
   "outputs": [],
   "source": [
    "which_ = 'album'\n",
    "year = 2019\n",
    "groupby_ = df.groupby(by=[df.index, which_]).agg('count')\n",
    "groupby_.index.names = ['date', which_]\n",
    "groupby_ = groupby_.reset_index()\n",
    "groupby_['year'] = [date.year for date in groupby_.date]\n",
    "groupby_= groupby_[groupby_['year']==year]"
   ]
  },
  {
   "cell_type": "code",
   "execution_count": 19,
   "metadata": {
    "ExecuteTime": {
     "end_time": "2020-07-04T18:01:12.535290Z",
     "start_time": "2020-07-04T18:01:12.531830Z"
    },
    "hidden": true
   },
   "outputs": [],
   "source": [
    "start_date = datetime(year, 1, 1)\n",
    "end_date = datetime(year+1, 1, 2)\n",
    "date_range = pd.date_range(start_date, end_date, freq='d', closed='left').tolist()"
   ]
  },
  {
   "cell_type": "code",
   "execution_count": 20,
   "metadata": {
    "ExecuteTime": {
     "end_time": "2020-07-04T18:08:01.770861Z",
     "start_time": "2020-07-04T18:01:12.537553Z"
    },
    "hidden": true
   },
   "outputs": [],
   "source": [
    "all_ = groupby_[which_].unique()\n",
    "df_ = pd.DataFrame({which_: all_})\n",
    "\n",
    "for date1, date2 in zip(date_range[:-2], date_range[1:]):\n",
    "    l=[]\n",
    "    for i in all_:\n",
    "        mask = (groupby_.date >= date1) & (groupby_.date < date2) & (groupby_[which_]==i)\n",
    "        l.append(groupby_[mask].artist.sum())\n",
    "    day = date1.day    \n",
    "    month = date1.month\n",
    "    year = date1.year\n",
    "    df_[f'{day}/{month}/{year}']=l\n",
    "    \n",
    "l=[]\n",
    "date1 = date_range[-2]\n",
    "date2 = date_range[-1]\n",
    "for i in all_:\n",
    "    mask = (groupby_.date >= date1) & (groupby_.date <= date2) & (groupby_[which_]==i)\n",
    "    l.append(groupby_[mask].artist.sum())\n",
    "day = date1.day \n",
    "month = date1.month\n",
    "year = date1.year\n",
    "df_[f'{day}/{month}/{year}']=l"
   ]
  },
  {
   "cell_type": "code",
   "execution_count": 21,
   "metadata": {
    "ExecuteTime": {
     "end_time": "2020-07-04T18:08:01.820691Z",
     "start_time": "2020-07-04T18:08:01.771854Z"
    },
    "hidden": true
   },
   "outputs": [],
   "source": [
    "del df_[which_]\n",
    "df_ = df_.cumsum(axis=1)\n",
    "df_[which_] = all_\n",
    "l = []\n",
    "for i in df_[f'{which_}'].values:\n",
    "    artist = df[df[f'{which_}'] == i].artist.values[0]\n",
    "    l.append(f'{i} - {artist}')\n",
    "df_['full_name'] = l\n",
    "df_.to_csv(f'ansesu_{which_}_2019.csv')"
   ]
  },
  {
   "cell_type": "markdown",
   "metadata": {
    "heading_collapsed": true
   },
   "source": [
    "# My yearly top tracks"
   ]
  },
  {
   "cell_type": "code",
   "execution_count": 95,
   "metadata": {
    "ExecuteTime": {
     "end_time": "2020-07-09T17:14:25.961996Z",
     "start_time": "2020-07-09T17:14:25.952692Z"
    },
    "hidden": true
   },
   "outputs": [],
   "source": [
    "which_='track'\n",
    "track, counts = np.unique(df_year[f'{which_}_w_artist'], return_counts=True)\n",
    "df_track = pd.DataFrame({\n",
    "    'track': track,\n",
    "    'count': counts\n",
    "})"
   ]
  },
  {
   "cell_type": "code",
   "execution_count": 107,
   "metadata": {
    "ExecuteTime": {
     "end_time": "2020-07-09T17:16:48.139287Z",
     "start_time": "2020-07-09T17:16:48.133065Z"
    },
    "hidden": true
   },
   "outputs": [
    {
     "name": "stdout",
     "output_type": "stream",
     "text": [
      "1) Pick U Up - Foster the People (159 plays)\n",
      "2) Imagination - Foster the People (102 plays)\n",
      "3) Style - Foster the People (65 plays)\n",
      "4) Half of the Way - Vulfpeck (61 plays)\n",
      "5) Wait For The Moment - Vulfpeck (57 plays)\n",
      "6) Worst Nites - Foster the People (52 plays)\n",
      "7) 1612 - Vulfpeck (51 plays)\n",
      "8) Don't Stop (Color on the Walls) - Foster the People (49 plays)\n",
      "9) Goats in Trees - Foster the People (49 plays)\n",
      "10) Helena Beat - Foster the People (48 plays)\n"
     ]
    }
   ],
   "source": [
    "for j, i in enumerate(df_track.sort_values('count', ascending=False)[['track','count']].values[:10]):\n",
    "    print(f'{j+1}) {i[0]} ({i[1]} plays)')"
   ]
  },
  {
   "cell_type": "markdown",
   "metadata": {
    "heading_collapsed": true
   },
   "source": [
    "# My yearly top albums"
   ]
  },
  {
   "cell_type": "code",
   "execution_count": 117,
   "metadata": {
    "ExecuteTime": {
     "end_time": "2020-07-09T17:22:20.994645Z",
     "start_time": "2020-07-09T17:22:20.986902Z"
    },
    "hidden": true
   },
   "outputs": [],
   "source": [
    "which_='album'\n",
    "album, counts = np.unique(df_year[f'{which_}_w_artist'], return_counts=True)\n",
    "df_album = pd.DataFrame({\n",
    "    'album': album,\n",
    "    'count': counts\n",
    "})"
   ]
  },
  {
   "cell_type": "code",
   "execution_count": 118,
   "metadata": {
    "ExecuteTime": {
     "end_time": "2020-07-09T17:22:33.166452Z",
     "start_time": "2020-07-09T17:22:33.157873Z"
    },
    "hidden": true
   },
   "outputs": [
    {
     "name": "stdout",
     "output_type": "stream",
     "text": [
      "1) Torches - Foster the People (418 plays)\n",
      "2) Supermodel - Foster the People (339 plays)\n",
      "3) Thrill of the Arts - Vulfpeck (312 plays)\n",
      "4) Sacred Hearts Club - Foster the People (302 plays)\n",
      "5) hill climber - Vulfpeck (286 plays)\n",
      "6) The Beautiful Game - Vulfpeck (280 plays)\n",
      "7) Saintmotelevision - Saint Motel (236 plays)\n",
      "8) Pick U Up - Foster the People (216 plays)\n",
      "9) Fugue State - Vulfpeck (213 plays)\n",
      "10) Mr Finish Line - Vulfpeck (194 plays)\n"
     ]
    }
   ],
   "source": [
    "for j, i in enumerate(df_album.sort_values('count', ascending=False)[['album','count']].values[:10]):\n",
    "    print(f'{j+1}) {i[0]} ({i[1]} plays)')"
   ]
  },
  {
   "cell_type": "markdown",
   "metadata": {
    "heading_collapsed": true
   },
   "source": [
    "# My yearly top new artists"
   ]
  },
  {
   "cell_type": "code",
   "execution_count": 212,
   "metadata": {
    "ExecuteTime": {
     "end_time": "2020-07-09T22:36:09.097085Z",
     "start_time": "2020-07-09T22:36:09.086947Z"
    },
    "hidden": true
   },
   "outputs": [],
   "source": [
    "new_artists, count = np.unique(df_year[~df_year.artist.isin(df[df.year<year].artist.unique())].artist, return_counts=True)"
   ]
  },
  {
   "cell_type": "code",
   "execution_count": 223,
   "metadata": {
    "ExecuteTime": {
     "end_time": "2020-07-09T22:42:19.538669Z",
     "start_time": "2020-07-09T22:42:19.534028Z"
    },
    "hidden": true
   },
   "outputs": [
    {
     "name": "stdout",
     "output_type": "stream",
     "text": [
      "1) Theo Katzman (66 plays)\n",
      "2) Beach Fossils (64 plays)\n",
      "3) Ripe (40 plays)\n",
      "4) DJ Bean Ornish (28 plays)\n",
      "5) Breakestra (23 plays)\n",
      "6) Michael Haydn (22 plays)\n",
      "7) おかん (19 plays)\n",
      "8) Madeon (18 plays)\n",
      "9) Scary Goldings (17 plays)\n",
      "10) Ozawa Kenji (17 plays)\n",
      "11) 小沢健二 (14 plays)\n",
      "12) Aqueous (12 plays)\n"
     ]
    }
   ],
   "source": [
    "for i, j in enumerate(sorted(zip(count[count>10],new_artists[count>10]), reverse=True)):\n",
    "    print(f'{i+1}) {j[1]} ({j[0]} plays)')"
   ]
  },
  {
   "cell_type": "markdown",
   "metadata": {
    "heading_collapsed": true
   },
   "source": [
    "# Yearly listening time distribution"
   ]
  },
  {
   "cell_type": "code",
   "execution_count": 245,
   "metadata": {
    "ExecuteTime": {
     "end_time": "2020-07-10T00:45:06.914774Z",
     "start_time": "2020-07-10T00:45:06.899078Z"
    },
    "code_folding": [
     0
    ],
    "hidden": true
   },
   "outputs": [],
   "source": [
    "df_year['hour'] = [date.hour for date in df_year.index]\n",
    "hour, count = np.unique(df_year['hour'], return_counts=True)\n",
    "df_hour = pd.DataFrame(\n",
    "    {'hour': hour,\n",
    "    'count': count}\n",
    ")"
   ]
  },
  {
   "cell_type": "code",
   "execution_count": 248,
   "metadata": {
    "ExecuteTime": {
     "end_time": "2020-07-10T00:45:51.081876Z",
     "start_time": "2020-07-10T00:45:50.990826Z"
    },
    "hidden": true
   },
   "outputs": [],
   "source": [
    "filename = 'daily_hours'\n",
    "\n",
    "for lang in ['en', 'pt']:\n",
    "    fig = figure(plot_width=plot_width, plot_height=plot_height, tools=\"\", sizing_mode='stretch_both')\n",
    "    source = ColumnDataSource(df_hour)\n",
    "\n",
    "    bar = fig.vbar(\n",
    "        x='hour', top='count', \n",
    "        width=0.9, \n",
    "        source=source, \n",
    "        fill_color='#F8766D', \n",
    "        line_width=0, \n",
    "        alpha=0.85\n",
    "    )\n",
    "\n",
    "    labels_dict = {\n",
    "        'pt': {\n",
    "            'y': 'Número de músicas',\n",
    "            'x': 'Horário, h',\n",
    "            'hover_1': 'Horário',\n",
    "            'hover_2': 'Quantidade'\n",
    "        },\n",
    "        'en': {\n",
    "            'y': 'Song count',\n",
    "            'x': 'Hour, h',\n",
    "            'hover_1': 'Hour',\n",
    "            'hover_2': 'Count'\n",
    "        } \n",
    "    }    \n",
    "    \n",
    "    hover = HoverTool(renderers=[bar])\n",
    "    hover.tooltips=[\n",
    "        (labels_dict[lang]['hover_1'], '@hour'+':00h'),\n",
    "        (labels_dict[lang]['hover_2'], '@count{,}'),\n",
    "    ]\n",
    "    fig.add_tools(hover)\n",
    "    \n",
    "    fig.yaxis.axis_label = labels_dict[lang]['y']\n",
    "    fig.xaxis.axis_label = labels_dict[lang]['x']\n",
    "    \n",
    "    fig.xaxis.ticker = source.data['hour']\n",
    "    fig.xaxis.formatter = BasicTickFormatter(use_scientific=False)\n",
    "\n",
    "    fig.toolbar.logo = None\n",
    "    fig.toolbar_location = None\n",
    "    fig.y_range.start = 0\n",
    "    fig.x_range.start = -.5\n",
    "    fig.x_range.end = 23.5\n",
    "    fig.xaxis.axis_label_text_font_size = \"14pt\"\n",
    "    fig.yaxis.axis_label_text_font_size = \"14pt\"\n",
    "    fig.xaxis.major_label_text_font_size = \"12pt\"\n",
    "    fig.yaxis.major_label_text_font_size = \"12pt\"\n",
    "    fig.xaxis.axis_label_text_font_style = 'normal'\n",
    "    fig.yaxis.axis_label_text_font_style = 'normal'\n",
    "    fig.xgrid.grid_line_color = None\n",
    "    fig.ygrid.grid_line_color = None\n",
    "    output_file(f\"html/{filename}_{year}_{lang}.html\")\n",
    "    save(fig,f\"html/{filename}_{year}_{lang}.html\")"
   ]
  },
  {
   "cell_type": "markdown",
   "metadata": {
    "heading_collapsed": true
   },
   "source": [
    "# Yearly month count distribution"
   ]
  },
  {
   "cell_type": "code",
   "execution_count": 253,
   "metadata": {
    "ExecuteTime": {
     "end_time": "2020-07-10T00:51:55.350169Z",
     "start_time": "2020-07-10T00:51:55.333659Z"
    },
    "hidden": true
   },
   "outputs": [],
   "source": [
    "df_year['month'] = [date.month for date in df_year.index]\n",
    "month, count = np.unique(df_year['month'], return_counts=True)\n",
    "df_month = pd.DataFrame(\n",
    "    {'month': month,\n",
    "     'count': count}\n",
    ")\n",
    "df_month['month_str_pt'] = ['Jan', 'Fev', 'Mar', 'Abr', 'Mai', 'Jun', 'Jul', 'Ago', 'Set', 'Out', 'Nov', 'Dez']\n",
    "df_month['month_str_en'] = ['Jan', 'Feb', 'Mar', 'Apr', 'Mai', 'Jun', 'Jul', 'Aug', 'Sep', 'Oct', 'Nov', 'Dec']\n",
    "df_month['month_str_complete_pt'] = ['Janeiro', 'Fevereiro', 'Março', 'Abril', 'Maio', 'Junho', 'Julho', 'Agosto', 'Setembro', 'Outubro', 'Novembro', 'Dezembro']\n",
    "df_month['month_str_complete_en'] = ['January', 'February', 'March', 'April', 'May', 'June', 'July', 'August', 'September', 'October', 'November', 'December']"
   ]
  },
  {
   "cell_type": "code",
   "execution_count": 254,
   "metadata": {
    "ExecuteTime": {
     "end_time": "2020-07-10T00:51:56.190893Z",
     "start_time": "2020-07-10T00:51:56.144694Z"
    },
    "hidden": true
   },
   "outputs": [],
   "source": [
    "filename = 'month_counts'\n",
    "for lang in ['en', 'pt']:\n",
    "    fig = figure(\n",
    "        plot_width=plot_width, \n",
    "        plot_height=plot_height, \n",
    "        tools=\"\", \n",
    "        sizing_mode='stretch_both'\n",
    "    )\n",
    "    source = ColumnDataSource(df_month)\n",
    "\n",
    "    bar = fig.vbar(\n",
    "        x='month', top='count', \n",
    "        width=0.9, \n",
    "        source=source, \n",
    "        fill_color='#756bb1', \n",
    "        line_width=0, \n",
    "        alpha=0.85\n",
    "    )\n",
    "\n",
    "    labels_dict = {\n",
    "            'pt': {\n",
    "                'y': 'Número de músicas',\n",
    "                'x': 'Mês',\n",
    "                'hover_1': 'Mês',\n",
    "                'hover_2': 'Quantidade'\n",
    "            },\n",
    "            'en': {\n",
    "                'y': 'Song count',\n",
    "                'x': 'Month',\n",
    "                'hover_1': 'Month',\n",
    "                'hover_2': 'Count'\n",
    "            } \n",
    "        }   \n",
    "\n",
    "    hover = HoverTool(renderers=[bar])\n",
    "    hover.tooltips=[\n",
    "        (labels_dict[lang]['hover_1'], f'@month_str_complete_{lang}'),\n",
    "        (labels_dict[lang]['hover_2'], '@count{,}'),\n",
    "    ]\n",
    "    fig.yaxis.axis_label = labels_dict[lang]['y']\n",
    "    fig.xaxis.axis_label = labels_dict[lang]['x']     \n",
    "\n",
    "    fig.add_tools(hover)\n",
    "    fig.xaxis.ticker = source.data['month']\n",
    "    fig.xaxis.major_label_overrides = {int(i): month for i, month in zip(df_month['month'], df_month[f'month_str_{lang}'])}\n",
    "\n",
    "    fig.toolbar.logo = None\n",
    "    fig.toolbar_location = None\n",
    "    fig.y_range.start = 0\n",
    "    fig.x_range.start = .5\n",
    "    fig.x_range.end = 12.5\n",
    "    fig.xaxis.axis_label_text_font_size = \"14pt\"\n",
    "    fig.yaxis.axis_label_text_font_size = \"14pt\"\n",
    "    fig.xaxis.major_label_text_font_size = \"12pt\"\n",
    "    fig.yaxis.major_label_text_font_size = \"12pt\"\n",
    "    fig.xaxis.axis_label_text_font_style = 'normal'\n",
    "    fig.yaxis.axis_label_text_font_style = 'normal'\n",
    "    fig.xgrid.grid_line_color = None\n",
    "    fig.ygrid.grid_line_color = None\n",
    "    output_file(f\"html/{filename}_{year}_{lang}.html\")\n",
    "    save(fig,f\"html/{filename}_{year}_{lang}.html\") "
   ]
  },
  {
   "cell_type": "markdown",
   "metadata": {
    "heading_collapsed": true
   },
   "source": [
    "# Yearly weekdays count distribution"
   ]
  },
  {
   "cell_type": "code",
   "execution_count": 256,
   "metadata": {
    "ExecuteTime": {
     "end_time": "2020-07-10T00:56:31.813898Z",
     "start_time": "2020-07-10T00:56:31.750369Z"
    },
    "hidden": true
   },
   "outputs": [],
   "source": [
    "df_year['weekday'] = [date.weekday() for date in df_year.index]\n",
    "weekday, count = np.unique(df_year['weekday'], return_counts=True)\n",
    "df_weekday = pd.DataFrame(\n",
    "    {'weekday': weekday,\n",
    "     'count': count}\n",
    ")\n",
    "df_weekday['weekday_str_en'] = ['Mon', 'Tue', 'Wed', 'Thu', 'Fri', 'Sat', 'Sun']\n",
    "df_weekday['weekday_str_pt'] = ['Seg', 'Ter', 'Qua', 'Qui', 'Sex', 'Sáb', 'Dom']\n",
    "df_weekday['weekday_str_complete_en'] = ['Monday', 'Tuesday', 'Wednesday', 'Thursday', 'Friday', 'Saturday', 'Sunday']\n",
    "df_weekday['weekday_str_complete_pt'] = ['Segunda', 'Terça', 'Quarta', 'Quinta', 'Sexta', 'Sábado', 'Domingo']"
   ]
  },
  {
   "cell_type": "code",
   "execution_count": 258,
   "metadata": {
    "ExecuteTime": {
     "end_time": "2020-07-10T00:56:37.159796Z",
     "start_time": "2020-07-10T00:56:37.112021Z"
    },
    "hidden": true
   },
   "outputs": [],
   "source": [
    "filename = 'weekday_counts'\n",
    "for lang in ['en', 'pt']:\n",
    "    fig = figure(plot_width=plot_width, plot_height=plot_height, tools=\"\", sizing_mode='stretch_both')\n",
    "    source = ColumnDataSource(df_weekday)\n",
    "\n",
    "    bar = fig.vbar(\n",
    "        x='weekday', top='count', \n",
    "        width=0.9, \n",
    "        source=source, \n",
    "        fill_color='#2ca25f', \n",
    "        line_width=0, \n",
    "        alpha=0.85\n",
    "    )\n",
    "    labels_dict = {\n",
    "        'pt': {\n",
    "            'y': 'Número de músicas',\n",
    "            'x': 'Dia da semana',\n",
    "            'hover_1': 'Dia da semana',\n",
    "            'hover_2': 'Quantidade'\n",
    "        },\n",
    "        'en': {\n",
    "            'y': 'Song count',\n",
    "            'x': 'Weekday',\n",
    "            'hover_1': 'Weekday',\n",
    "            'hover_2': 'Count'\n",
    "        } \n",
    "    }    \n",
    "    hover = HoverTool(renderers=[bar])\n",
    "    hover.tooltips=[\n",
    "        (labels_dict[lang]['hover_1'], f'@weekday_str_complete_{lang}'),\n",
    "        (labels_dict[lang]['hover_2'], '@count{,}'),\n",
    "    ]\n",
    "    fig.add_tools(hover)\n",
    "    fig.yaxis.axis_label = labels_dict[lang]['y']\n",
    "    fig.xaxis.axis_label = labels_dict[lang]['x']  \n",
    "    \n",
    "    fig.xaxis.ticker = source.data['weekday']\n",
    "    fig.xaxis.major_label_overrides = {int(i): month for i, month in zip(df_weekday['weekday'], df_weekday[f'weekday_str_{lang}'])}\n",
    "\n",
    "    fig.toolbar.logo = None\n",
    "    fig.toolbar_location = None\n",
    "    fig.y_range.start = 0\n",
    "    fig.x_range.start = -.5\n",
    "    fig.x_range.end = 6.5\n",
    "    fig.xaxis.axis_label_text_font_size = \"14pt\"\n",
    "    fig.yaxis.axis_label_text_font_size = \"14pt\"\n",
    "    fig.xaxis.major_label_text_font_size = \"12pt\"\n",
    "    fig.yaxis.major_label_text_font_size = \"12pt\"\n",
    "    fig.xaxis.axis_label_text_font_style = 'normal'\n",
    "    fig.yaxis.axis_label_text_font_style = 'normal'\n",
    "    fig.xgrid.grid_line_color = None\n",
    "    fig.ygrid.grid_line_color = None\n",
    "    output_file(f\"html/{filename}_{year}_{lang}.html\")\n",
    "    save(fig,f\"html/{filename}_{year}_{lang}.html\") "
   ]
  },
  {
   "cell_type": "markdown",
   "metadata": {
    "heading_collapsed": true
   },
   "source": [
    "# Yearly Diversity"
   ]
  },
  {
   "cell_type": "code",
   "execution_count": 260,
   "metadata": {
    "ExecuteTime": {
     "end_time": "2020-07-10T01:00:42.568259Z",
     "start_time": "2020-07-10T01:00:42.564685Z"
    },
    "code_folding": [
     0
    ],
    "hidden": true
   },
   "outputs": [],
   "source": [
    "def shannon(p_list,n):\n",
    "    '''\n",
    "    Calculates Shannon's entropy for a system with n possible outcomes\n",
    "\n",
    "    input:\n",
    "        * p_list - list, probability list\n",
    "        * n - int, number of possible outcomes\n",
    "    output:\n",
    "        * entropy - float, Shannon's entropy\n",
    "    '''\n",
    "    ps = p_list[p_list>0]\n",
    "    return np.sum(-ps*np.log(ps))/np.log(n)"
   ]
  },
  {
   "cell_type": "code",
   "execution_count": 261,
   "metadata": {
    "ExecuteTime": {
     "end_time": "2020-07-10T01:00:42.805633Z",
     "start_time": "2020-07-10T01:00:42.802718Z"
    },
    "hidden": true
   },
   "outputs": [],
   "source": [
    "start = datetime(year,1,1)\n",
    "n_weeks = round(365/7)+1\n",
    "dates = [start] + [start + timedelta(days=7*delta) for delta in range(1, n_weeks)]\n",
    "dates = dates[:-1] + [datetime(year+1,1,1)]"
   ]
  },
  {
   "cell_type": "code",
   "execution_count": 262,
   "metadata": {
    "ExecuteTime": {
     "end_time": "2020-07-10T01:00:43.142856Z",
     "start_time": "2020-07-10T01:00:43.096956Z"
    },
    "hidden": true
   },
   "outputs": [],
   "source": [
    "l=[]\n",
    "l_dates=[]\n",
    "for date1, date2 in zip(dates[:-1], dates[1:]):\n",
    "    mask = (df_year.index < date2) & (df_year.index >= date1)\n",
    "    l_entropy = []\n",
    "    counts_artist = np.unique(df_year[mask].artist, return_counts=True)[1]\n",
    "    p_artist = counts_artist/np.sum(counts_artist)\n",
    "    entropy = shannon(p_artist, len(p_artist))\n",
    "    l.append(entropy)\n",
    "    l_dates.append(f'{date1:%d/%m/%Y} - {date2:%d/%m/%Y}')\n",
    "    \n",
    "df_entropy_weeks = pd.DataFrame(\n",
    "    {'entropy': l,\n",
    "     'week_str': l_dates,\n",
    "     'week': np.arange(len(l))}\n",
    ")    "
   ]
  },
  {
   "cell_type": "code",
   "execution_count": 263,
   "metadata": {
    "ExecuteTime": {
     "end_time": "2020-07-10T01:00:43.568024Z",
     "start_time": "2020-07-10T01:00:43.503349Z"
    },
    "hidden": true
   },
   "outputs": [],
   "source": [
    "filename='yearly_entropy'\n",
    "for lang in ['en', 'pt']:\n",
    "    fig = figure(\n",
    "        plot_width=plot_width, \n",
    "        plot_height=plot_height, \n",
    "        tools=\"\", \n",
    "        sizing_mode='stretch_both'\n",
    "    )\n",
    "\n",
    "    source = ColumnDataSource(df_entropy_weeks)\n",
    "\n",
    "    line = fig.line(\n",
    "        x='week', y='entropy',\n",
    "        source=source,\n",
    "        line_width=2.5, \n",
    "        color='#d53e4f'\n",
    "    )\n",
    "\n",
    "    c = fig.circle(\n",
    "        x='week', \n",
    "        y='entropy',\n",
    "        source=source,\n",
    "        size=10, \n",
    "        color='#d53e4f'\n",
    "    )\n",
    "    \n",
    "    labels_dict = {\n",
    "        'pt': {\n",
    "            'y': 'Diversidade',\n",
    "            'x': 'Semana do ano',\n",
    "            'hover_1': 'Data',\n",
    "            'hover_2': 'Semana',\n",
    "            'hover_3': 'Diversidade'\n",
    "        },\n",
    "        'en': {\n",
    "            'y': 'Diversity',\n",
    "            'x': 'Week',\n",
    "            'hover_1': 'Date',\n",
    "            'hover_2': 'Week',\n",
    "            'hover_3': 'Diversity'\n",
    "        } \n",
    "    }    \n",
    "    \n",
    "    hover = HoverTool(formatters=formatters, renderers=[c])\n",
    "    hover.tooltips=[\n",
    "        (labels_dict[lang]['hover_1'], '@week_str'),\n",
    "        (labels_dict[lang]['hover_2'], '@week'),\n",
    "        (labels_dict[lang]['hover_3'], '@entropy{1.111}')\n",
    "    ]\n",
    "    fig.add_tools(hover)\n",
    "    fig.yaxis.axis_label = labels_dict[lang]['y']\n",
    "    fig.xaxis.axis_label = labels_dict[lang]['x']    \n",
    "    \n",
    "    fig.yaxis.formatter = BasicTickFormatter(use_scientific=False)\n",
    "    fig.y_range = Range1d(0, 1)\n",
    "    fig.toolbar.logo = None\n",
    "    fig.toolbar_location = None\n",
    "    fig.xaxis.axis_label_text_font_size = \"14pt\"\n",
    "    fig.yaxis.axis_label_text_font_size = \"14pt\"\n",
    "    fig.xaxis.major_label_text_font_size = \"12pt\"\n",
    "    fig.yaxis.major_label_text_font_size = \"12pt\"\n",
    "    fig.xaxis.axis_label_text_font_style = 'normal'\n",
    "    fig.yaxis.axis_label_text_font_style = 'normal'\n",
    "    fig.xgrid.grid_line_color = None\n",
    "    fig.ygrid.grid_line_color = None\n",
    "\n",
    "    output_file(f\"html/{filename}_{year}_{lang}.html\")\n",
    "    save(fig,f\"html/{filename}_{year}_{lang}.html\") "
   ]
  },
  {
   "cell_type": "markdown",
   "metadata": {
    "heading_collapsed": true
   },
   "source": [
    "# Yearly diversity through weekdays"
   ]
  },
  {
   "cell_type": "code",
   "execution_count": 264,
   "metadata": {
    "ExecuteTime": {
     "end_time": "2020-07-10T01:05:04.332275Z",
     "start_time": "2020-07-10T01:05:04.317101Z"
    },
    "hidden": true
   },
   "outputs": [],
   "source": [
    "l=[]\n",
    "\n",
    "weekday_str_en = ['Mon', 'Tue', 'Wed', 'Thu', 'Fri', 'Sat', 'Sun']\n",
    "weekday_str_pt = ['Seg', 'Ter', 'Qua', 'Qui', 'Sex', 'Sáb', 'Dom']\n",
    "weekday_str_complete_en = ['Monday', 'Tuesday', 'Wednesday', 'Thursday', 'Friday', 'Saturday', 'Sunday']\n",
    "weekday_str_complete_pt = ['Segunda', 'Terça', 'Quarta', 'Quinta', 'Sexta', 'Sábado', 'Domingo']\n",
    "\n",
    "for weekday in np.arange(7):\n",
    "    mask = df_year.weekday == weekday\n",
    "    counts_artist = np.unique(df_year[mask].artist, return_counts=True)[1]\n",
    "    p_artist = counts_artist/np.sum(counts_artist)\n",
    "    entropy = shannon(p_artist, len(p_artist))\n",
    "    l.append(entropy)\n",
    "    \n",
    "df_entropy_weekday = pd.DataFrame(\n",
    "    {'entropy': l,\n",
    "    'weekday': np.arange(len(l)),\n",
    "    'weekday_str_en': weekday_str_en,\n",
    "    'weekday_str_complete_en': weekday_str_complete_en,\n",
    "    'weekday_str_pt': weekday_str_pt,\n",
    "    'weekday_str_complete_pt': weekday_str_complete_pt,}\n",
    ")"
   ]
  },
  {
   "cell_type": "code",
   "execution_count": 265,
   "metadata": {
    "ExecuteTime": {
     "end_time": "2020-07-10T01:05:05.654640Z",
     "start_time": "2020-07-10T01:05:05.596988Z"
    },
    "hidden": true
   },
   "outputs": [],
   "source": [
    "filename='weekday_entropy'\n",
    "\n",
    "for lang in ['en', 'pt']:\n",
    "    fig = figure(\n",
    "        plot_width=plot_width, \n",
    "        plot_height=plot_height, \n",
    "        tools=\"\", \n",
    "        sizing_mode='stretch_both'\n",
    "    )\n",
    "\n",
    "    source = ColumnDataSource(df_entropy_weekday)\n",
    "\n",
    "    line = fig.line(\n",
    "        x='weekday', y='entropy',\n",
    "        source=source,\n",
    "        line_width=3.5, \n",
    "        color='#7bccc4'\n",
    "    )\n",
    "\n",
    "    c = fig.circle(\n",
    "        x='weekday', \n",
    "        y='entropy',\n",
    "        source=source,\n",
    "        size=12, \n",
    "        color='#7bccc4'\n",
    "    )\n",
    "    \n",
    "    labels_dict = {\n",
    "        'pt': {\n",
    "            'y': 'Diversidade',\n",
    "            'x': 'Dia da semana',\n",
    "            'hover_1': 'Dia da semana',\n",
    "            'hover_2': 'Diversidade'\n",
    "        },\n",
    "        'en': {\n",
    "            'y': 'Diversity',\n",
    "            'x': 'Weekday',\n",
    "            'hover_1': 'Weekday',\n",
    "            'hover_2': 'Diversity'\n",
    "        } \n",
    "    }\n",
    "    \n",
    "    hover = HoverTool(formatters=formatters, renderers=[c])\n",
    "    hover.tooltips=[\n",
    "        (labels_dict[lang]['hover_1'], f'@weekday_str_complete_{lang}'),\n",
    "        (labels_dict[lang]['hover_2'], '@entropy{1.111}')\n",
    "    ]\n",
    "    fig.add_tools(hover)\n",
    "    fig.yaxis.axis_label = labels_dict[lang]['y']\n",
    "    fig.xaxis.axis_label = labels_dict[lang]['x']\n",
    "    \n",
    "    fig.xaxis.ticker = source.data['weekday']\n",
    "    fig.xaxis.major_label_overrides = {int(i): month for i, month in zip(df_entropy_weekday['weekday'], df_entropy_weekday[f'weekday_str_{lang}'])}\n",
    "\n",
    "    fig.yaxis.formatter = BasicTickFormatter(use_scientific=False)\n",
    "\n",
    "    fig.y_range = Range1d(0, 1)\n",
    "    fig.toolbar.logo = None\n",
    "    fig.toolbar_location = None\n",
    "    fig.xaxis.axis_label_text_font_size = \"14pt\"\n",
    "    fig.yaxis.axis_label_text_font_size = \"14pt\"\n",
    "    fig.xaxis.major_label_text_font_size = \"12pt\"\n",
    "    fig.yaxis.major_label_text_font_size = \"12pt\"\n",
    "    fig.xaxis.axis_label_text_font_style = 'normal'\n",
    "    fig.yaxis.axis_label_text_font_style = 'normal'\n",
    "    fig.xgrid.grid_line_color = None\n",
    "    fig.ygrid.grid_line_color = None\n",
    "\n",
    "    output_file(f\"html/{filename}_{year}_{lang}.html\")\n",
    "    save(fig,f\"html/{filename}_{year}_{lang}.html\") "
   ]
  },
  {
   "cell_type": "markdown",
   "metadata": {
    "heading_collapsed": true
   },
   "source": [
    "# Yearly listening streaks"
   ]
  },
  {
   "cell_type": "code",
   "execution_count": 266,
   "metadata": {
    "ExecuteTime": {
     "end_time": "2020-07-10T01:08:01.010029Z",
     "start_time": "2020-07-10T01:08:00.996703Z"
    },
    "hidden": true
   },
   "outputs": [],
   "source": [
    "counter = 1\n",
    "streaks = []\n",
    "artists = []\n",
    "dates = []\n",
    "for artist1, artist2, date in zip(df_year.artist.values[:-1], \n",
    "                                  df_year.artist.values[1:],\n",
    "                                  df_year.index[:-1]):\n",
    "    if artist1 != artist2:\n",
    "        streaks.append(counter)\n",
    "        artists.append(artist1)\n",
    "        dates.append(date)\n",
    "        counter = 1 \n",
    "    else:\n",
    "        counter += 1\n",
    "        \n",
    "df_streak = pd.DataFrame({\n",
    "    'streak': streaks,\n",
    "    'artist': artists,\n",
    "    'date': dates\n",
    "})"
   ]
  },
  {
   "cell_type": "code",
   "execution_count": 267,
   "metadata": {
    "ExecuteTime": {
     "end_time": "2020-07-10T01:08:01.621397Z",
     "start_time": "2020-07-10T01:08:01.520584Z"
    },
    "hidden": true
   },
   "outputs": [],
   "source": [
    "filename='listening_streaks'\n",
    "for lang in ['en', 'pt']:\n",
    "    fig = figure(x_axis_type=\"datetime\", plot_width=plot_width, plot_height=plot_height, tools=\"\", sizing_mode='stretch_both')\n",
    "\n",
    "    source = ColumnDataSource(df_streak)\n",
    "\n",
    "    c = fig.circle(\n",
    "        x='date', y='streak',\n",
    "        source=source,\n",
    "        size='streak', \n",
    "        color='#f768a1',\n",
    "        alpha=0.5\n",
    "    )\n",
    "\n",
    "    labels_dict = {\n",
    "        'pt': {\n",
    "            'y': 'Sequência',\n",
    "            'x': 'Data',\n",
    "            'hover_1': 'Data',\n",
    "            'hover_2': 'Sequência',\n",
    "            'hover_3': 'Artista'\n",
    "        },\n",
    "        'en': {\n",
    "            'y': 'Streak',\n",
    "            'x': 'Date',\n",
    "            'hover_1': 'Date',\n",
    "            'hover_2': 'Streak',\n",
    "            'hover_3': 'Artist'\n",
    "        } \n",
    "    }    \n",
    "    \n",
    "    formatters={'@date': 'datetime'}\n",
    "    hover = HoverTool(formatters=formatters, renderers=[c])\n",
    "    hover.tooltips=[\n",
    "        (labels_dict[lang]['hover_1'], '@date{%d/%m/%Y}'),\n",
    "        (labels_dict[lang]['hover_2'], '@streak'),\n",
    "        (labels_dict[lang]['hover_3'], '@artist')\n",
    "    ]\n",
    "    fig.add_tools(hover)\n",
    "    fig.yaxis.axis_label = labels_dict[lang]['y']\n",
    "    fig.xaxis.axis_label = labels_dict[lang]['x']\n",
    "    \n",
    "    fig.xaxis.formatter=DatetimeTickFormatter(days=['%d/%m', '%a %d'], months=['%m/%Y', '%b %y'])\n",
    "    fig.yaxis.formatter = BasicTickFormatter(use_scientific=False)\n",
    "\n",
    "    fig.y_range = Range1d(0, 102)\n",
    "    fig.toolbar.logo = None\n",
    "    fig.toolbar_location = None\n",
    "    fig.xaxis.axis_label_text_font_size = \"14pt\"\n",
    "    fig.yaxis.axis_label_text_font_size = \"14pt\"\n",
    "    fig.xaxis.major_label_text_font_size = \"12pt\"\n",
    "    fig.yaxis.major_label_text_font_size = \"12pt\"\n",
    "    fig.xaxis.axis_label_text_font_style = 'normal'\n",
    "    fig.yaxis.axis_label_text_font_style = 'normal'\n",
    "    fig.xgrid.grid_line_color = None\n",
    "    fig.ygrid.grid_line_color = None\n",
    "    output_file(f\"html/{filename}_{year}_{lang}.html\")\n",
    "    save(fig,f\"html/{filename}_{year}_{lang}.html\")"
   ]
  }
 ],
 "metadata": {
  "kernelspec": {
   "display_name": "Python 3",
   "language": "python",
   "name": "python3"
  },
  "language_info": {
   "codemirror_mode": {
    "name": "ipython",
    "version": 3
   },
   "file_extension": ".py",
   "mimetype": "text/x-python",
   "name": "python",
   "nbconvert_exporter": "python",
   "pygments_lexer": "ipython3",
   "version": "3.7.6"
  },
  "toc": {
   "base_numbering": 1,
   "nav_menu": {},
   "number_sections": true,
   "sideBar": true,
   "skip_h1_title": false,
   "title_cell": "Table of Contents",
   "title_sidebar": "Contents",
   "toc_cell": false,
   "toc_position": {},
   "toc_section_display": true,
   "toc_window_display": false
  },
  "varInspector": {
   "cols": {
    "lenName": 16,
    "lenType": 16,
    "lenVar": 40
   },
   "kernels_config": {
    "python": {
     "delete_cmd_postfix": "",
     "delete_cmd_prefix": "del ",
     "library": "var_list.py",
     "varRefreshCmd": "print(var_dic_list())"
    },
    "r": {
     "delete_cmd_postfix": ") ",
     "delete_cmd_prefix": "rm(",
     "library": "var_list.r",
     "varRefreshCmd": "cat(var_dic_list()) "
    }
   },
   "types_to_exclude": [
    "module",
    "function",
    "builtin_function_or_method",
    "instance",
    "_Feature"
   ],
   "window_display": false
  }
 },
 "nbformat": 4,
 "nbformat_minor": 2
}
